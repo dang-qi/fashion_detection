{
 "cells": [
  {
   "cell_type": "code",
   "execution_count": 14,
   "source": [
    "from torchcore.util import Config\n",
    "cfg = 'configs/base/models/modules/resnet50_fpn.py'\n",
    "data_cfg = 'configs/base/datasets/fashion_pedia.py'\n",
    "model_cfg = 'configs/base/models/faster_rcnn_resnet50_fpn.py'\n",
    "config = Config.fromfile(cfg)\n",
    "data_config = Config.fromfile(data_cfg)\n",
    "model_config = Config.fromfile(model_cfg)"
   ],
   "outputs": [],
   "metadata": {}
  },
  {
   "cell_type": "code",
   "execution_count": 12,
   "source": [
    "import pprint \n",
    "pp = pprint.PrettyPrinter(indent=4)\n",
    "pp.pprint(frcnn_config._cfg_dict)"
   ],
   "outputs": [
    {
     "output_type": "stream",
     "name": "stdout",
     "text": [
      "{   'dataloader_train': {   'batch_sampler': None,\n",
      "                            'batch_size': 2,\n",
      "                            'collate': {   'image_mean': None,\n",
      "                                           'image_std': None,\n",
      "                                           'max_size': 1024,\n",
      "                                           'min_size': 1024,\n",
      "                                           'resized': True,\n",
      "                                           'type': 'CollateFnRCNN'},\n",
      "                            'dataset': {   'add_mask': False,\n",
      "                                           'anno': '~/data/annotations/fashionpedia_instances_train.pkl',\n",
      "                                           'debug': False,\n",
      "                                           'part': 'train',\n",
      "                                           'root': '~/data/datasets/Fashionpedia',\n",
      "                                           'torchvision_format': False,\n",
      "                                           'transforms': [   {   'mask_key': None,\n",
      "                                                                 'probability': 0.5,\n",
      "                                                                 'targets_box_keys': [   'boxes'],\n",
      "                                                                 'type': 'RandomMirror'},\n",
      "                                                             {   'high': 2048,\n",
      "                                                                 'low': 512.0,\n",
      "                                                                 'mask_key': None,\n",
      "                                                                 'targets_box_keys': [   'boxes'],\n",
      "                                                                 'type': 'RandomAbsoluteScale'},\n",
      "                                                             {   'box_inside': True,\n",
      "                                                                 'mask_key': None,\n",
      "                                                                 'size': 1024,\n",
      "                                                                 'type': 'RandomCrop'}],\n",
      "                                           'type': 'FashionPediaDataset',\n",
      "                                           'xyxy': True},\n",
      "                            'drop_last': False,\n",
      "                            'num_workers': 0,\n",
      "                            'pin_memory': False,\n",
      "                            'sampler': None,\n",
      "                            'shuffle': True},\n",
      "    'dataloader_val': {   'batch_sampler': None,\n",
      "                          'batch_size': 2,\n",
      "                          'collate': {   'image_mean': None,\n",
      "                                         'image_std': None,\n",
      "                                         'max_size': 1024,\n",
      "                                         'min_size': 1024,\n",
      "                                         'resized': False,\n",
      "                                         'type': 'CollateFnRCNN'},\n",
      "                          'dataset': {   'add_mask': False,\n",
      "                                         'anno': '~/data/annotations/fashionpedia_instances_val.pkl',\n",
      "                                         'debug': False,\n",
      "                                         'part': 'val',\n",
      "                                         'root': '~/data/datasets/Fashionpedia',\n",
      "                                         'torchvision_format': False,\n",
      "                                         'transforms': None,\n",
      "                                         'type': 'FashionPediaDataset',\n",
      "                                         'xyxy': True},\n",
      "                          'drop_last': False,\n",
      "                          'num_workers': 0,\n",
      "                          'pin_memory': False,\n",
      "                          'sampler': None,\n",
      "                          'shuffle': True},\n",
      "    'dataset_train': {   'add_mask': False,\n",
      "                         'anno': '~/data/annotations/fashionpedia_instances_train.pkl',\n",
      "                         'debug': False,\n",
      "                         'part': 'train',\n",
      "                         'root': '~/data/datasets/Fashionpedia',\n",
      "                         'torchvision_format': False,\n",
      "                         'transforms': [   {   'mask_key': None,\n",
      "                                               'probability': 0.5,\n",
      "                                               'targets_box_keys': ['boxes'],\n",
      "                                               'type': 'RandomMirror'},\n",
      "                                           {   'high': 2048,\n",
      "                                               'low': 512.0,\n",
      "                                               'mask_key': None,\n",
      "                                               'targets_box_keys': ['boxes'],\n",
      "                                               'type': 'RandomAbsoluteScale'},\n",
      "                                           {   'box_inside': True,\n",
      "                                               'mask_key': None,\n",
      "                                               'size': 1024,\n",
      "                                               'type': 'RandomCrop'}],\n",
      "                         'type': 'FashionPediaDataset',\n",
      "                         'xyxy': True},\n",
      "    'dataset_val': {   'add_mask': False,\n",
      "                       'anno': '~/data/annotations/fashionpedia_instances_val.pkl',\n",
      "                       'debug': False,\n",
      "                       'part': 'val',\n",
      "                       'root': '~/data/datasets/Fashionpedia',\n",
      "                       'torchvision_format': False,\n",
      "                       'transforms': None,\n",
      "                       'type': 'FashionPediaDataset',\n",
      "                       'xyxy': True},\n",
      "    'math': <module 'math' from '/home/dsv/qida0163/anaconda3/envs/py38/lib/python3.8/lib-dynload/math.cpython-38-x86_64-linux-gnu.so'>,\n",
      "    'max_size': 1024,\n",
      "    'min_size': 1024,\n",
      "    'model': {   'backbone': {   'depth': 50,\n",
      "                                 'init_cfg': {'type': 'pretrained'},\n",
      "                                 'returned_layers': [1, 2, 3, 4],\n",
      "                                 'type': 'ResNet'},\n",
      "                 'neck': {   'extra_blocks': 'last_level_max_pool',\n",
      "                             'in_channels_list': [256, 512, 1024, 2048],\n",
      "                             'out_channels': 256,\n",
      "                             'type': 'FPN'},\n",
      "                 'roi_head': {   'box_coder': {   'box_code_clip': None,\n",
      "                                                  'type': 'AnchorBoxesCoder',\n",
      "                                                  'weight': [   10.0,\n",
      "                                                                10.0,\n",
      "                                                                5.0,\n",
      "                                                                5.0]},\n",
      "                                 'box_head': {   'class_num': 46,\n",
      "                                                 'out_feature_num': 256,\n",
      "                                                 'pool_h': 7,\n",
      "                                                 'pool_w': 7,\n",
      "                                                 'type': 'FastRCNNHead'},\n",
      "                                 'box_loss': {   'beta': 0.1111111111111111,\n",
      "                                                 'reduction': 'sum',\n",
      "                                                 'type': 'SmoothL1Loss'},\n",
      "                                 'class_loss': {   'reduction': 'mean',\n",
      "                                                   'type': 'CrossEntropyLoss'},\n",
      "                                 'class_num': 46,\n",
      "                                 'feature_names': ['1', '2', '3', '4'],\n",
      "                                 'feature_strides': [4, 8, 16, 32],\n",
      "                                 'iou_high_thresh': 0.5,\n",
      "                                 'iou_low_thresh': 0.5,\n",
      "                                 'nms_thresh': 0.5,\n",
      "                                 'roi_extractor': {   'pool_h': 7,\n",
      "                                                      'pool_w': 7,\n",
      "                                                      'sampling': 2,\n",
      "                                                      'type': 'RoiAliagnFPN'},\n",
      "                                 'sampler': {   'neg_sample_num': 384,\n",
      "                                                'pos_sample_num': 128,\n",
      "                                                'type': 'PosNegSampler'},\n",
      "                                 'score_thresh': 0.001,\n",
      "                                 'type': 'RoINet'},\n",
      "                 'rpn': {   'anchor_generator': {   'aspect_ratios': [   0.5,\n",
      "                                                                         1.0,\n",
      "                                                                         2.0],\n",
      "                                                    'sizes': (   (32,),\n",
      "                                                                 (64,),\n",
      "                                                                 (128,),\n",
      "                                                                 (256,),\n",
      "                                                                 (512,)),\n",
      "                                                    'type': 'AnchorGenerator'},\n",
      "                            'bbox_coder': {   'box_code_clip': 4.135166556742356,\n",
      "                                              'type': 'AnchorBoxesCoder',\n",
      "                                              'weight': [1.0, 1.0, 1.0, 1.0]},\n",
      "                            'box_loss': {   'beta': 0.1111111111111111,\n",
      "                                            'reduction': 'sum',\n",
      "                                            'type': 'SmoothL1Loss'},\n",
      "                            'class_loss': {'type': 'BCEWithLogitsLoss'},\n",
      "                            'nms_thresh': 0.7,\n",
      "                            'post_nms_top_n_test': 1000,\n",
      "                            'post_nms_top_n_train': 2000,\n",
      "                            'pre_nms_top_n_test': 1000,\n",
      "                            'pre_nms_top_n_train': 2000,\n",
      "                            'rpn_head': {'in_channels': 256, 'type': 'RPNHead'},\n",
      "                            'sampler': {   'neg_sample_num': 128,\n",
      "                                           'pos_sample_num': 128,\n",
      "                                           'type': 'PosNegSampler'},\n",
      "                            'type': 'RPN'},\n",
      "                 'type': 'FasterRCNNFPN'},\n",
      "    'train_transforms': [   {   'mask_key': None,\n",
      "                                'probability': 0.5,\n",
      "                                'targets_box_keys': ['boxes'],\n",
      "                                'type': 'RandomMirror'},\n",
      "                            {   'high': 2048,\n",
      "                                'low': 512.0,\n",
      "                                'mask_key': None,\n",
      "                                'targets_box_keys': ['boxes'],\n",
      "                                'type': 'RandomAbsoluteScale'},\n",
      "                            {   'box_inside': True,\n",
      "                                'mask_key': None,\n",
      "                                'size': 1024,\n",
      "                                'type': 'RandomCrop'}],\n",
      "    'val_transforms': None}\n"
     ]
    }
   ],
   "metadata": {}
  },
  {
   "cell_type": "code",
   "execution_count": 11,
   "source": [
    "from torchcore.util import Config\n",
    "frcnn_cfg_path = 'configs/faster_rcnn/faster_rcnn_resnet50_fpn_fashion_pedia.py'\n",
    "frcnn_config = Config.fromfile(frcnn_cfg_path)"
   ],
   "outputs": [],
   "metadata": {}
  },
  {
   "cell_type": "code",
   "execution_count": 15,
   "source": [
    "from torchcore.data.datasets import build_dataloader, build_dataset\n",
    "#dataset = build_dataset(data_config.dataset_train)\n",
    "data_loader=build_dataloader(data_config.dataloader_val)"
   ],
   "outputs": [],
   "metadata": {}
  },
  {
   "cell_type": "code",
   "execution_count": 3,
   "source": [
    "from torchcore.dnn.networks.backbone.build import build_backbone\n",
    "from torchcore.dnn.networks.necks.build import build_neck\n",
    "from torchcore.dnn.networks.detectors.build import build_detector\n",
    "from torchcore.dnn.networks.roi_heads.build import build_roi_head\n",
    "backbone = build_backbone(config.backbone)\n",
    "neck = build_neck(config.neck)\n",
    "rpn = build_detector(config.rpn)\n",
    "roi_head = build_roi_head(config.roi_net)"
   ],
   "outputs": [
    {
     "output_type": "stream",
     "name": "stdout",
     "text": [
      "init from pretrained model\n"
     ]
    }
   ],
   "metadata": {}
  },
  {
   "cell_type": "code",
   "execution_count": 6,
   "source": [
    "from torchcore.dnn.networks.detectors.build import build_detector\n",
    "frcnn = build_detector(model_config.model)\n"
   ],
   "outputs": [
    {
     "output_type": "stream",
     "name": "stdout",
     "text": [
      "init from pretrained model\n"
     ]
    }
   ],
   "metadata": {}
  },
  {
   "cell_type": "code",
   "execution_count": 16,
   "source": [
    "import torch\n",
    "frcnn.eval()\n",
    "for inputs, targets in data_loader:\n",
    "    out = frcnn(inputs, targets)\n",
    "    break"
   ],
   "outputs": [],
   "metadata": {}
  },
  {
   "cell_type": "code",
   "execution_count": 17,
   "source": [
    "print(out['scores'])"
   ],
   "outputs": [
    {
     "output_type": "stream",
     "name": "stdout",
     "text": [
      "[tensor([0.0300, 0.0295, 0.0291, 0.0291, 0.0291, 0.0290, 0.0288, 0.0287, 0.0287,\n",
      "        0.0287, 0.0285, 0.0284, 0.0283, 0.0283, 0.0283, 0.0283, 0.0283, 0.0283,\n",
      "        0.0281, 0.0281, 0.0281, 0.0280, 0.0280, 0.0280, 0.0280, 0.0279, 0.0279,\n",
      "        0.0279, 0.0279, 0.0278, 0.0278, 0.0278, 0.0278, 0.0278, 0.0277, 0.0277,\n",
      "        0.0277, 0.0276, 0.0276, 0.0276, 0.0276, 0.0275, 0.0275, 0.0274, 0.0274,\n",
      "        0.0274, 0.0274, 0.0274, 0.0274, 0.0274, 0.0274, 0.0274, 0.0273, 0.0273,\n",
      "        0.0272, 0.0272, 0.0272, 0.0272, 0.0272, 0.0272, 0.0271, 0.0271, 0.0271,\n",
      "        0.0271, 0.0271, 0.0271, 0.0271, 0.0270, 0.0270, 0.0270, 0.0270, 0.0270,\n",
      "        0.0269, 0.0269, 0.0269, 0.0269, 0.0269, 0.0269, 0.0268, 0.0268, 0.0268,\n",
      "        0.0268, 0.0268, 0.0268, 0.0268, 0.0268, 0.0268, 0.0268, 0.0268, 0.0267,\n",
      "        0.0267, 0.0267, 0.0267, 0.0267, 0.0267, 0.0267, 0.0267, 0.0266, 0.0266,\n",
      "        0.0266], grad_fn=<IndexBackward>), tensor([0.0305, 0.0305, 0.0305, 0.0302, 0.0294, 0.0293, 0.0292, 0.0292, 0.0292,\n",
      "        0.0290, 0.0289, 0.0288, 0.0287, 0.0287, 0.0285, 0.0285, 0.0285, 0.0284,\n",
      "        0.0283, 0.0283, 0.0283, 0.0283, 0.0282, 0.0282, 0.0282, 0.0282, 0.0281,\n",
      "        0.0281, 0.0280, 0.0279, 0.0279, 0.0279, 0.0279, 0.0279, 0.0278, 0.0278,\n",
      "        0.0278, 0.0277, 0.0277, 0.0277, 0.0277, 0.0277, 0.0277, 0.0277, 0.0277,\n",
      "        0.0277, 0.0277, 0.0277, 0.0276, 0.0276, 0.0276, 0.0276, 0.0276, 0.0276,\n",
      "        0.0276, 0.0276, 0.0275, 0.0275, 0.0275, 0.0275, 0.0274, 0.0274, 0.0274,\n",
      "        0.0274, 0.0274, 0.0274, 0.0274, 0.0273, 0.0273, 0.0273, 0.0273, 0.0273,\n",
      "        0.0273, 0.0273, 0.0272, 0.0272, 0.0272, 0.0272, 0.0272, 0.0271, 0.0271,\n",
      "        0.0271, 0.0271, 0.0271, 0.0271, 0.0271, 0.0271, 0.0270, 0.0270, 0.0270,\n",
      "        0.0270, 0.0270, 0.0270, 0.0270, 0.0270, 0.0270, 0.0269, 0.0269, 0.0269,\n",
      "        0.0269], grad_fn=<IndexBackward>)]\n"
     ]
    }
   ],
   "metadata": {}
  },
  {
   "cell_type": "code",
   "execution_count": 49,
   "source": [
    "for k,v in features.items():\n",
    "    print(k,v.shape)"
   ],
   "outputs": [
    {
     "output_type": "stream",
     "name": "stdout",
     "text": [
      "1 torch.Size([2, 256, 256, 256])\n",
      "2 torch.Size([2, 256, 128, 128])\n",
      "3 torch.Size([2, 256, 64, 64])\n",
      "4 torch.Size([2, 256, 32, 32])\n",
      "pool torch.Size([2, 256, 16, 16])\n"
     ]
    }
   ],
   "metadata": {}
  },
  {
   "cell_type": "code",
   "execution_count": 51,
   "source": [
    "loss_roi"
   ],
   "outputs": [
    {
     "output_type": "execute_result",
     "data": {
      "text/plain": [
       "{'loss_label': tensor(3.9537, grad_fn=<NllLossBackward>),\n",
       " 'loss_roi_bbox': tensor(0.0023, grad_fn=<DivBackward0>)}"
      ]
     },
     "metadata": {},
     "execution_count": 51
    }
   ],
   "metadata": {}
  }
 ],
 "metadata": {
  "orig_nbformat": 4,
  "language_info": {
   "name": "python",
   "version": "3.8.11",
   "mimetype": "text/x-python",
   "codemirror_mode": {
    "name": "ipython",
    "version": 3
   },
   "pygments_lexer": "ipython3",
   "nbconvert_exporter": "python",
   "file_extension": ".py"
  },
  "kernelspec": {
   "name": "python3",
   "display_name": "Python 3.8.11 64-bit ('py38': conda)"
  },
  "interpreter": {
   "hash": "0a577e9ab5a440490e6d68c1c9dcd7ebc7d2aa9cc1862782041d689fe053d653"
  }
 },
 "nbformat": 4,
 "nbformat_minor": 2
}