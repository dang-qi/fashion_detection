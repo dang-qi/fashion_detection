{
 "cells": [
  {
   "cell_type": "code",
   "execution_count": 5,
   "source": [
    "from torchcore.util import Config\n",
    "cfg = 'configs/base/models/modules/resnet50_fpn.py'\n",
    "data_cfg = 'configs/base/datasets/fashion_pedia.py'\n",
    "model_cfg = 'configs/base/models/faster_rcnn_resnet50_fpn.py'\n",
    "config = Config.fromfile(cfg)\n",
    "data_config = Config.fromfile(data_cfg)\n",
    "model_config = Config.fromfile(model_cfg)"
   ],
   "outputs": [],
   "metadata": {}
  },
  {
   "cell_type": "code",
   "execution_count": 2,
   "source": [
    "from torchcore.data.datasets import build_dataloader, build_dataset\n",
    "#dataset = build_dataset(data_config.dataset_train)\n",
    "data_loader=build_dataloader(data_config.dataloader_train)"
   ],
   "outputs": [],
   "metadata": {}
  },
  {
   "cell_type": "code",
   "execution_count": 3,
   "source": [
    "from torchcore.dnn.networks.backbone.build import build_backbone\n",
    "from torchcore.dnn.networks.necks.build import build_neck\n",
    "from torchcore.dnn.networks.detectors.build import build_detector\n",
    "from torchcore.dnn.networks.roi_heads.build import build_roi_head\n",
    "backbone = build_backbone(config.backbone)\n",
    "neck = build_neck(config.neck)\n",
    "rpn = build_detector(config.rpn)\n",
    "roi_head = build_roi_head(config.roi_net)"
   ],
   "outputs": [
    {
     "output_type": "stream",
     "name": "stdout",
     "text": [
      "init from pretrained model\n"
     ]
    }
   ],
   "metadata": {}
  },
  {
   "cell_type": "code",
   "execution_count": 6,
   "source": [
    "from torchcore.dnn.networks.detectors.build import build_detector\n",
    "frcnn = build_detector(model_config.model)\n"
   ],
   "outputs": [
    {
     "output_type": "stream",
     "name": "stdout",
     "text": [
      "init from pretrained model\n"
     ]
    }
   ],
   "metadata": {}
  },
  {
   "cell_type": "code",
   "execution_count": 9,
   "source": [
    "import torch\n",
    "frcnn.eval()\n",
    "for inputs, targets in data_loader:\n",
    "    out = frcnn(inputs, targets)\n",
    "    break"
   ],
   "outputs": [],
   "metadata": {}
  },
  {
   "cell_type": "code",
   "execution_count": 12,
   "source": [
    "print(out['scores'])"
   ],
   "outputs": [
    {
     "output_type": "stream",
     "name": "stdout",
     "text": [
      "[tensor([0.0305, 0.0305, 0.0304, 0.0303, 0.0303, 0.0302, 0.0300, 0.0298, 0.0298,\n",
      "        0.0297, 0.0297, 0.0293, 0.0293, 0.0292, 0.0291, 0.0291, 0.0290, 0.0290,\n",
      "        0.0290, 0.0289, 0.0288, 0.0288, 0.0288, 0.0288, 0.0288, 0.0287, 0.0287,\n",
      "        0.0287, 0.0287, 0.0287, 0.0287, 0.0287, 0.0286, 0.0286, 0.0286, 0.0286,\n",
      "        0.0286, 0.0286, 0.0286, 0.0286, 0.0286, 0.0286, 0.0285, 0.0285, 0.0285,\n",
      "        0.0285, 0.0285, 0.0285, 0.0285, 0.0284, 0.0284, 0.0284, 0.0284, 0.0283,\n",
      "        0.0283, 0.0283, 0.0283, 0.0283, 0.0283, 0.0283, 0.0282, 0.0282, 0.0282,\n",
      "        0.0282, 0.0282, 0.0282, 0.0282, 0.0282, 0.0282, 0.0281, 0.0281, 0.0281,\n",
      "        0.0281, 0.0281, 0.0280, 0.0280, 0.0280, 0.0280, 0.0280, 0.0280, 0.0280,\n",
      "        0.0280, 0.0280, 0.0280, 0.0279, 0.0279, 0.0279, 0.0279, 0.0279, 0.0279,\n",
      "        0.0279, 0.0279, 0.0279, 0.0279, 0.0279, 0.0279, 0.0279, 0.0278, 0.0278,\n",
      "        0.0278], grad_fn=<IndexBackward>), tensor([0.0316, 0.0307, 0.0305, 0.0300, 0.0298, 0.0297, 0.0294, 0.0293, 0.0292,\n",
      "        0.0291, 0.0291, 0.0289, 0.0289, 0.0289, 0.0289, 0.0288, 0.0288, 0.0288,\n",
      "        0.0287, 0.0286, 0.0286, 0.0285, 0.0285, 0.0285, 0.0285, 0.0285, 0.0285,\n",
      "        0.0284, 0.0284, 0.0283, 0.0283, 0.0283, 0.0282, 0.0282, 0.0282, 0.0282,\n",
      "        0.0282, 0.0281, 0.0281, 0.0281, 0.0281, 0.0281, 0.0281, 0.0281, 0.0280,\n",
      "        0.0280, 0.0279, 0.0279, 0.0279, 0.0279, 0.0279, 0.0279, 0.0279, 0.0278,\n",
      "        0.0278, 0.0278, 0.0278, 0.0278, 0.0277, 0.0277, 0.0277, 0.0277, 0.0276,\n",
      "        0.0276, 0.0276, 0.0276, 0.0276, 0.0276, 0.0276, 0.0276, 0.0276, 0.0275,\n",
      "        0.0275, 0.0275, 0.0275, 0.0275, 0.0274, 0.0274, 0.0274, 0.0274, 0.0274,\n",
      "        0.0274, 0.0274, 0.0274, 0.0274, 0.0274, 0.0274, 0.0273, 0.0273, 0.0273,\n",
      "        0.0273, 0.0273, 0.0273, 0.0273, 0.0273, 0.0273, 0.0272, 0.0272, 0.0272,\n",
      "        0.0272], grad_fn=<IndexBackward>)]\n"
     ]
    }
   ],
   "metadata": {}
  },
  {
   "cell_type": "code",
   "execution_count": 49,
   "source": [
    "for k,v in features.items():\n",
    "    print(k,v.shape)"
   ],
   "outputs": [
    {
     "output_type": "stream",
     "name": "stdout",
     "text": [
      "1 torch.Size([2, 256, 256, 256])\n",
      "2 torch.Size([2, 256, 128, 128])\n",
      "3 torch.Size([2, 256, 64, 64])\n",
      "4 torch.Size([2, 256, 32, 32])\n",
      "pool torch.Size([2, 256, 16, 16])\n"
     ]
    }
   ],
   "metadata": {}
  },
  {
   "cell_type": "code",
   "execution_count": 51,
   "source": [
    "loss_roi"
   ],
   "outputs": [
    {
     "output_type": "execute_result",
     "data": {
      "text/plain": [
       "{'loss_label': tensor(3.9537, grad_fn=<NllLossBackward>),\n",
       " 'loss_roi_bbox': tensor(0.0023, grad_fn=<DivBackward0>)}"
      ]
     },
     "metadata": {},
     "execution_count": 51
    }
   ],
   "metadata": {}
  }
 ],
 "metadata": {
  "orig_nbformat": 4,
  "language_info": {
   "name": "python",
   "version": "3.8.11",
   "mimetype": "text/x-python",
   "codemirror_mode": {
    "name": "ipython",
    "version": 3
   },
   "pygments_lexer": "ipython3",
   "nbconvert_exporter": "python",
   "file_extension": ".py"
  },
  "kernelspec": {
   "name": "python3",
   "display_name": "Python 3.8.11 64-bit ('py38': conda)"
  },
  "interpreter": {
   "hash": "0a577e9ab5a440490e6d68c1c9dcd7ebc7d2aa9cc1862782041d689fe053d653"
  }
 },
 "nbformat": 4,
 "nbformat_minor": 2
}