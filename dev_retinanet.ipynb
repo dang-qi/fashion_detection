{
 "cells": [
  {
   "cell_type": "markdown",
   "metadata": {},
   "source": [
    "Load model"
   ]
  },
  {
   "cell_type": "code",
   "execution_count": 1,
   "metadata": {},
   "outputs": [
    {
     "name": "stdout",
     "output_type": "stream",
     "text": [
      "init from pretrained model\n"
     ]
    }
   ],
   "source": [
    "from torchcore.util import Config\n",
    "from torchcore.dnn.networks.detectors.build import build_detector\n",
    "#cfg = 'configs/retinanet/retinanet_resnet50_fpn_coco_mmdet.py'\n",
    "cfg = 'configs/retinanet/retinanet_resnet50_fpn_coco.py'\n",
    "config = Config.fromfile(cfg)\n",
    "model=build_detector(config.model)\n",
    "\n",
    "device1 = 0\n",
    "device2 = 1"
   ]
  },
  {
   "cell_type": "markdown",
   "metadata": {},
   "source": [
    "Load pretrained MM detection model"
   ]
  },
  {
   "cell_type": "code",
   "execution_count": 2,
   "metadata": {},
   "outputs": [
    {
     "name": "stdout",
     "output_type": "stream",
     "text": [
      "Use load_from_local loader\n"
     ]
    }
   ],
   "source": [
    "from torchcore.dnn.networks.tools.load_from_mmdetection import load_mm_retinanet\n",
    "checkpoint= 'retinanet_r50_fpn_1x_coco_20200130-c2398f9e.pth'\n",
    "checkpoint=None\n",
    "mm_config = 'mmconfigs/retinanet/retinanet_r50_fpn_1x_coco.py'\n",
    "mm_model=load_mm_retinanet(checkpoint, mm_config, model, return_mm_model=True)"
   ]
  },
  {
   "cell_type": "markdown",
   "metadata": {},
   "source": [
    "Load my dataset"
   ]
  },
  {
   "cell_type": "code",
   "execution_count": 19,
   "metadata": {},
   "outputs": [
    {
     "name": "stdout",
     "output_type": "stream",
     "text": [
      "48 images are deleted.\n"
     ]
    }
   ],
   "source": [
    "from torchcore.data.datasets.build import build_dataloader\n",
    "from torchcore.util.config import Config\n",
    "config.dataloader_val.batch_size=2\n",
    "val_dataset_loader = build_dataloader(config.dataloader_val,distributed=False)\n",
    "dataset= val_dataset_loader.dataset"
   ]
  },
  {
   "cell_type": "code",
   "execution_count": 3,
   "metadata": {},
   "outputs": [
    {
     "name": "stdout",
     "output_type": "stream",
     "text": [
      "loading annotations into memory...\n",
      "Done (t=0.08s)\n",
      "creating index...\n",
      "index created!\n"
     ]
    }
   ],
   "source": [
    "json_path = os.path.expanduser('~/data/datasets/Fashionpedia/annotations/instances_attributes_val2020.json')\n",
    "\n",
    "names = val_dataset_loader.dataset.get_coco_style_names(json_path, with_cat_id=True)"
   ]
  },
  {
   "cell_type": "code",
   "execution_count": 20,
   "metadata": {},
   "outputs": [],
   "source": [
    "%matplotlib inline\n",
    "from torchcore.tools.visulize_tools import draw_plain_boxes, draw_single_image\n",
    "from torchcore.tools.visulize_tools import visulize_heatmaps_with_image, visulize_colored_heatmaps_with_image\n",
    "from torchcore.tools.color_gen import random_colors\n",
    "import matplotlib.pyplot as plt\n",
    "import os\n",
    "from pycocotools.coco import COCO\n",
    "from torchcore.data.util import set_device\n",
    "\n",
    "dataset= val_dataset_loader.dataset\n",
    "score_thresh = 0.6\n",
    "colors = random_colors(46)\n",
    "#model.eval()\n",
    "\n",
    "for i, (inputs, targets) in enumerate(val_dataset_loader):\n",
    "    #if i!=8:\n",
    "    #    continue\n",
    "    #results = model(inputs, targets)\n",
    "    inputs1 = set_device(inputs, device1)\n",
    "    targets1 = set_device(targets,device1)\n",
    "    break\n",
    "\n",
    "for i, (inputs, targets) in enumerate(val_dataset_loader):\n",
    "    #if i!=8:\n",
    "    #    continue\n",
    "    inputs2 = set_device(inputs, device2)\n",
    "    targets2 = set_device(targets,device2)\n",
    "    break\n",
    "    input, target = dataset[i]\n",
    "    im = input['data']\n",
    "    boxes = results['boxes'][0].detach().numpy()\n",
    "    labels= results['labels'][0].detach().numpy()-1\n",
    "    scores = results['scores'][0].detach().numpy()\n",
    "\n",
    "    keep = scores > score_thresh\n",
    "    boxes = boxes[keep]\n",
    "    labels = labels[keep]\n",
    "    scores = scores[keep]\n",
    "    draw_plain_boxes(im, boxes)\n",
    "    draw_single_image(im, boxes, scores, labels, colors, class_names=names)\n",
    "    #heatmap = class_hp[fpn_layer][0].detach().numpy()\n",
    "    #heatmap = centerness_hp[fpn_layer][0].detach().numpy()\n",
    "    #mixim=visulize_colored_heatmaps_with_image(heatmap, im)\n",
    "    plt.figure(figsize=(8,8))\n",
    "    plt.imshow(im)\n",
    "\n",
    "    if i>-1:\n",
    "        break"
   ]
  },
  {
   "cell_type": "code",
   "execution_count": 4,
   "metadata": {},
   "outputs": [],
   "source": [
    "import torch\n",
    "\n",
    "def print_mem(device_list=[0,1], MB=True):\n",
    "    for d in device_list:\n",
    "        mem = torch.cuda.memory_allocated(d)\n",
    "        mem_max = torch.cuda.max_memory_allocated(d)\n",
    "        if MB:\n",
    "            mem =int(mem / (1024 * 1024))\n",
    "            mem_max =int(mem_max/ (1024 * 1024))\n",
    "        last_str='MB' if MB else ''\n",
    "        #print('current mem in gpu {}: {} {}'.format(d,mem.item(), last_str))\n",
    "        #print('max mem in gpu {}: {} {}'.format(d,mem_max.item(), last_str))\n",
    "        print('mem {}: {} {}'.format(d,mem, last_str))\n",
    "        print('max mem {}: {} {}'.format(d,mem_max, last_str))"
   ]
  },
  {
   "cell_type": "code",
   "execution_count": 5,
   "metadata": {},
   "outputs": [
    {
     "name": "stderr",
     "output_type": "stream",
     "text": [
      "2022-02-22 11:17:52,744 - mmcv - INFO - initialize ResNet with init_cfg {'type': 'Pretrained', 'checkpoint': 'torchvision://resnet50'}\n",
      "2022-02-22 11:17:52,745 - mmcv - INFO - load model from: torchvision://resnet50\n",
      "2022-02-22 11:17:52,745 - mmcv - INFO - Use load_from_torchvision loader\n",
      "2022-02-22 11:17:52,858 - mmcv - WARNING - The model and loaded state dict do not match exactly\n",
      "\n",
      "unexpected key in source state_dict: fc.weight, fc.bias\n",
      "\n",
      "2022-02-22 11:17:52,870 - mmcv - INFO - initialize FPN with init_cfg {'type': 'Xavier', 'layer': 'Conv2d', 'distribution': 'uniform'}\n",
      "2022-02-22 11:17:52,900 - mmcv - INFO - initialize RetinaHead with init_cfg {'type': 'Normal', 'layer': 'Conv2d', 'std': 0.01, 'override': {'type': 'Normal', 'name': 'retina_cls', 'std': 0.01, 'bias_prob': 0.01}}\n",
      "2022-02-22 11:17:52,952 - mmcv - INFO - \n",
      "backbone.conv1.weight - torch.Size([64, 3, 7, 7]): \n",
      "PretrainedInit: load from torchvision://resnet50 \n",
      " \n",
      "2022-02-22 11:17:52,952 - mmcv - INFO - \n",
      "backbone.bn1.weight - torch.Size([64]): \n",
      "PretrainedInit: load from torchvision://resnet50 \n",
      " \n",
      "2022-02-22 11:17:52,952 - mmcv - INFO - \n",
      "backbone.bn1.bias - torch.Size([64]): \n",
      "PretrainedInit: load from torchvision://resnet50 \n",
      " \n",
      "2022-02-22 11:17:52,953 - mmcv - INFO - \n",
      "backbone.layer1.0.conv1.weight - torch.Size([64, 64, 1, 1]): \n",
      "PretrainedInit: load from torchvision://resnet50 \n",
      " \n",
      "2022-02-22 11:17:52,953 - mmcv - INFO - \n",
      "backbone.layer1.0.bn1.weight - torch.Size([64]): \n",
      "PretrainedInit: load from torchvision://resnet50 \n",
      " \n",
      "2022-02-22 11:17:52,953 - mmcv - INFO - \n",
      "backbone.layer1.0.bn1.bias - torch.Size([64]): \n",
      "PretrainedInit: load from torchvision://resnet50 \n",
      " \n",
      "2022-02-22 11:17:52,954 - mmcv - INFO - \n",
      "backbone.layer1.0.conv2.weight - torch.Size([64, 64, 3, 3]): \n",
      "PretrainedInit: load from torchvision://resnet50 \n",
      " \n",
      "2022-02-22 11:17:52,954 - mmcv - INFO - \n",
      "backbone.layer1.0.bn2.weight - torch.Size([64]): \n",
      "PretrainedInit: load from torchvision://resnet50 \n",
      " \n",
      "2022-02-22 11:17:52,954 - mmcv - INFO - \n",
      "backbone.layer1.0.bn2.bias - torch.Size([64]): \n",
      "PretrainedInit: load from torchvision://resnet50 \n",
      " \n",
      "2022-02-22 11:17:52,954 - mmcv - INFO - \n",
      "backbone.layer1.0.conv3.weight - torch.Size([256, 64, 1, 1]): \n",
      "PretrainedInit: load from torchvision://resnet50 \n",
      " \n",
      "2022-02-22 11:17:52,954 - mmcv - INFO - \n",
      "backbone.layer1.0.bn3.weight - torch.Size([256]): \n",
      "PretrainedInit: load from torchvision://resnet50 \n",
      " \n",
      "2022-02-22 11:17:52,955 - mmcv - INFO - \n",
      "backbone.layer1.0.bn3.bias - torch.Size([256]): \n",
      "PretrainedInit: load from torchvision://resnet50 \n",
      " \n",
      "2022-02-22 11:17:52,955 - mmcv - INFO - \n",
      "backbone.layer1.0.downsample.0.weight - torch.Size([256, 64, 1, 1]): \n",
      "PretrainedInit: load from torchvision://resnet50 \n",
      " \n",
      "2022-02-22 11:17:52,955 - mmcv - INFO - \n",
      "backbone.layer1.0.downsample.1.weight - torch.Size([256]): \n",
      "PretrainedInit: load from torchvision://resnet50 \n",
      " \n",
      "2022-02-22 11:17:52,955 - mmcv - INFO - \n",
      "backbone.layer1.0.downsample.1.bias - torch.Size([256]): \n",
      "PretrainedInit: load from torchvision://resnet50 \n",
      " \n",
      "2022-02-22 11:17:52,955 - mmcv - INFO - \n",
      "backbone.layer1.1.conv1.weight - torch.Size([64, 256, 1, 1]): \n",
      "PretrainedInit: load from torchvision://resnet50 \n",
      " \n",
      "2022-02-22 11:17:52,956 - mmcv - INFO - \n",
      "backbone.layer1.1.bn1.weight - torch.Size([64]): \n",
      "PretrainedInit: load from torchvision://resnet50 \n",
      " \n",
      "2022-02-22 11:17:52,956 - mmcv - INFO - \n",
      "backbone.layer1.1.bn1.bias - torch.Size([64]): \n",
      "PretrainedInit: load from torchvision://resnet50 \n",
      " \n",
      "2022-02-22 11:17:52,956 - mmcv - INFO - \n",
      "backbone.layer1.1.conv2.weight - torch.Size([64, 64, 3, 3]): \n",
      "PretrainedInit: load from torchvision://resnet50 \n",
      " \n",
      "2022-02-22 11:17:52,956 - mmcv - INFO - \n",
      "backbone.layer1.1.bn2.weight - torch.Size([64]): \n",
      "PretrainedInit: load from torchvision://resnet50 \n",
      " \n",
      "2022-02-22 11:17:52,956 - mmcv - INFO - \n",
      "backbone.layer1.1.bn2.bias - torch.Size([64]): \n",
      "PretrainedInit: load from torchvision://resnet50 \n",
      " \n",
      "2022-02-22 11:17:52,957 - mmcv - INFO - \n",
      "backbone.layer1.1.conv3.weight - torch.Size([256, 64, 1, 1]): \n",
      "PretrainedInit: load from torchvision://resnet50 \n",
      " \n",
      "2022-02-22 11:17:52,957 - mmcv - INFO - \n",
      "backbone.layer1.1.bn3.weight - torch.Size([256]): \n",
      "PretrainedInit: load from torchvision://resnet50 \n",
      " \n",
      "2022-02-22 11:17:52,957 - mmcv - INFO - \n",
      "backbone.layer1.1.bn3.bias - torch.Size([256]): \n",
      "PretrainedInit: load from torchvision://resnet50 \n",
      " \n",
      "2022-02-22 11:17:52,957 - mmcv - INFO - \n",
      "backbone.layer1.2.conv1.weight - torch.Size([64, 256, 1, 1]): \n",
      "PretrainedInit: load from torchvision://resnet50 \n",
      " \n",
      "2022-02-22 11:17:52,957 - mmcv - INFO - \n",
      "backbone.layer1.2.bn1.weight - torch.Size([64]): \n",
      "PretrainedInit: load from torchvision://resnet50 \n",
      " \n",
      "2022-02-22 11:17:52,958 - mmcv - INFO - \n",
      "backbone.layer1.2.bn1.bias - torch.Size([64]): \n",
      "PretrainedInit: load from torchvision://resnet50 \n",
      " \n",
      "2022-02-22 11:17:52,958 - mmcv - INFO - \n",
      "backbone.layer1.2.conv2.weight - torch.Size([64, 64, 3, 3]): \n",
      "PretrainedInit: load from torchvision://resnet50 \n",
      " \n",
      "2022-02-22 11:17:52,959 - mmcv - INFO - \n",
      "backbone.layer1.2.bn2.weight - torch.Size([64]): \n",
      "PretrainedInit: load from torchvision://resnet50 \n",
      " \n",
      "2022-02-22 11:17:52,959 - mmcv - INFO - \n",
      "backbone.layer1.2.bn2.bias - torch.Size([64]): \n",
      "PretrainedInit: load from torchvision://resnet50 \n",
      " \n",
      "2022-02-22 11:17:52,959 - mmcv - INFO - \n",
      "backbone.layer1.2.conv3.weight - torch.Size([256, 64, 1, 1]): \n",
      "PretrainedInit: load from torchvision://resnet50 \n",
      " \n",
      "2022-02-22 11:17:52,960 - mmcv - INFO - \n",
      "backbone.layer1.2.bn3.weight - torch.Size([256]): \n",
      "PretrainedInit: load from torchvision://resnet50 \n",
      " \n",
      "2022-02-22 11:17:52,960 - mmcv - INFO - \n",
      "backbone.layer1.2.bn3.bias - torch.Size([256]): \n",
      "PretrainedInit: load from torchvision://resnet50 \n",
      " \n",
      "2022-02-22 11:17:52,960 - mmcv - INFO - \n",
      "backbone.layer2.0.conv1.weight - torch.Size([128, 256, 1, 1]): \n",
      "PretrainedInit: load from torchvision://resnet50 \n",
      " \n",
      "2022-02-22 11:17:52,960 - mmcv - INFO - \n",
      "backbone.layer2.0.bn1.weight - torch.Size([128]): \n",
      "PretrainedInit: load from torchvision://resnet50 \n",
      " \n",
      "2022-02-22 11:17:52,961 - mmcv - INFO - \n",
      "backbone.layer2.0.bn1.bias - torch.Size([128]): \n",
      "PretrainedInit: load from torchvision://resnet50 \n",
      " \n",
      "2022-02-22 11:17:52,961 - mmcv - INFO - \n",
      "backbone.layer2.0.conv2.weight - torch.Size([128, 128, 3, 3]): \n",
      "PretrainedInit: load from torchvision://resnet50 \n",
      " \n",
      "2022-02-22 11:17:52,961 - mmcv - INFO - \n",
      "backbone.layer2.0.bn2.weight - torch.Size([128]): \n",
      "PretrainedInit: load from torchvision://resnet50 \n",
      " \n",
      "2022-02-22 11:17:52,961 - mmcv - INFO - \n",
      "backbone.layer2.0.bn2.bias - torch.Size([128]): \n",
      "PretrainedInit: load from torchvision://resnet50 \n",
      " \n",
      "2022-02-22 11:17:52,961 - mmcv - INFO - \n",
      "backbone.layer2.0.conv3.weight - torch.Size([512, 128, 1, 1]): \n",
      "PretrainedInit: load from torchvision://resnet50 \n",
      " \n",
      "2022-02-22 11:17:52,962 - mmcv - INFO - \n",
      "backbone.layer2.0.bn3.weight - torch.Size([512]): \n",
      "PretrainedInit: load from torchvision://resnet50 \n",
      " \n",
      "2022-02-22 11:17:52,962 - mmcv - INFO - \n",
      "backbone.layer2.0.bn3.bias - torch.Size([512]): \n",
      "PretrainedInit: load from torchvision://resnet50 \n",
      " \n",
      "2022-02-22 11:17:52,962 - mmcv - INFO - \n",
      "backbone.layer2.0.downsample.0.weight - torch.Size([512, 256, 1, 1]): \n",
      "PretrainedInit: load from torchvision://resnet50 \n",
      " \n",
      "2022-02-22 11:17:52,962 - mmcv - INFO - \n",
      "backbone.layer2.0.downsample.1.weight - torch.Size([512]): \n",
      "PretrainedInit: load from torchvision://resnet50 \n",
      " \n",
      "2022-02-22 11:17:52,962 - mmcv - INFO - \n",
      "backbone.layer2.0.downsample.1.bias - torch.Size([512]): \n",
      "PretrainedInit: load from torchvision://resnet50 \n",
      " \n",
      "2022-02-22 11:17:52,963 - mmcv - INFO - \n",
      "backbone.layer2.1.conv1.weight - torch.Size([128, 512, 1, 1]): \n",
      "PretrainedInit: load from torchvision://resnet50 \n",
      " \n",
      "2022-02-22 11:17:52,963 - mmcv - INFO - \n",
      "backbone.layer2.1.bn1.weight - torch.Size([128]): \n",
      "PretrainedInit: load from torchvision://resnet50 \n",
      " \n",
      "2022-02-22 11:17:52,963 - mmcv - INFO - \n",
      "backbone.layer2.1.bn1.bias - torch.Size([128]): \n",
      "PretrainedInit: load from torchvision://resnet50 \n",
      " \n",
      "2022-02-22 11:17:52,963 - mmcv - INFO - \n",
      "backbone.layer2.1.conv2.weight - torch.Size([128, 128, 3, 3]): \n",
      "PretrainedInit: load from torchvision://resnet50 \n",
      " \n",
      "2022-02-22 11:17:52,963 - mmcv - INFO - \n",
      "backbone.layer2.1.bn2.weight - torch.Size([128]): \n",
      "PretrainedInit: load from torchvision://resnet50 \n",
      " \n",
      "2022-02-22 11:17:52,964 - mmcv - INFO - \n",
      "backbone.layer2.1.bn2.bias - torch.Size([128]): \n",
      "PretrainedInit: load from torchvision://resnet50 \n",
      " \n",
      "2022-02-22 11:17:52,964 - mmcv - INFO - \n",
      "backbone.layer2.1.conv3.weight - torch.Size([512, 128, 1, 1]): \n",
      "PretrainedInit: load from torchvision://resnet50 \n",
      " \n",
      "2022-02-22 11:17:52,964 - mmcv - INFO - \n",
      "backbone.layer2.1.bn3.weight - torch.Size([512]): \n",
      "PretrainedInit: load from torchvision://resnet50 \n",
      " \n",
      "2022-02-22 11:17:52,964 - mmcv - INFO - \n",
      "backbone.layer2.1.bn3.bias - torch.Size([512]): \n",
      "PretrainedInit: load from torchvision://resnet50 \n",
      " \n",
      "2022-02-22 11:17:52,965 - mmcv - INFO - \n",
      "backbone.layer2.2.conv1.weight - torch.Size([128, 512, 1, 1]): \n",
      "PretrainedInit: load from torchvision://resnet50 \n",
      " \n",
      "2022-02-22 11:17:52,965 - mmcv - INFO - \n",
      "backbone.layer2.2.bn1.weight - torch.Size([128]): \n",
      "PretrainedInit: load from torchvision://resnet50 \n",
      " \n",
      "2022-02-22 11:17:52,965 - mmcv - INFO - \n",
      "backbone.layer2.2.bn1.bias - torch.Size([128]): \n",
      "PretrainedInit: load from torchvision://resnet50 \n",
      " \n",
      "2022-02-22 11:17:52,965 - mmcv - INFO - \n",
      "backbone.layer2.2.conv2.weight - torch.Size([128, 128, 3, 3]): \n",
      "PretrainedInit: load from torchvision://resnet50 \n",
      " \n",
      "2022-02-22 11:17:52,966 - mmcv - INFO - \n",
      "backbone.layer2.2.bn2.weight - torch.Size([128]): \n",
      "PretrainedInit: load from torchvision://resnet50 \n",
      " \n",
      "2022-02-22 11:17:52,966 - mmcv - INFO - \n",
      "backbone.layer2.2.bn2.bias - torch.Size([128]): \n",
      "PretrainedInit: load from torchvision://resnet50 \n",
      " \n",
      "2022-02-22 11:17:52,966 - mmcv - INFO - \n",
      "backbone.layer2.2.conv3.weight - torch.Size([512, 128, 1, 1]): \n",
      "PretrainedInit: load from torchvision://resnet50 \n",
      " \n",
      "2022-02-22 11:17:52,966 - mmcv - INFO - \n",
      "backbone.layer2.2.bn3.weight - torch.Size([512]): \n",
      "PretrainedInit: load from torchvision://resnet50 \n",
      " \n",
      "2022-02-22 11:17:52,966 - mmcv - INFO - \n",
      "backbone.layer2.2.bn3.bias - torch.Size([512]): \n",
      "PretrainedInit: load from torchvision://resnet50 \n",
      " \n",
      "2022-02-22 11:17:52,967 - mmcv - INFO - \n",
      "backbone.layer2.3.conv1.weight - torch.Size([128, 512, 1, 1]): \n",
      "PretrainedInit: load from torchvision://resnet50 \n",
      " \n",
      "2022-02-22 11:17:52,967 - mmcv - INFO - \n",
      "backbone.layer2.3.bn1.weight - torch.Size([128]): \n",
      "PretrainedInit: load from torchvision://resnet50 \n",
      " \n",
      "2022-02-22 11:17:52,967 - mmcv - INFO - \n",
      "backbone.layer2.3.bn1.bias - torch.Size([128]): \n",
      "PretrainedInit: load from torchvision://resnet50 \n",
      " \n",
      "2022-02-22 11:17:52,969 - mmcv - INFO - \n",
      "backbone.layer2.3.conv2.weight - torch.Size([128, 128, 3, 3]): \n",
      "PretrainedInit: load from torchvision://resnet50 \n",
      " \n",
      "2022-02-22 11:17:52,969 - mmcv - INFO - \n",
      "backbone.layer2.3.bn2.weight - torch.Size([128]): \n",
      "PretrainedInit: load from torchvision://resnet50 \n",
      " \n",
      "2022-02-22 11:17:52,969 - mmcv - INFO - \n",
      "backbone.layer2.3.bn2.bias - torch.Size([128]): \n",
      "PretrainedInit: load from torchvision://resnet50 \n",
      " \n",
      "2022-02-22 11:17:52,970 - mmcv - INFO - \n",
      "backbone.layer2.3.conv3.weight - torch.Size([512, 128, 1, 1]): \n",
      "PretrainedInit: load from torchvision://resnet50 \n",
      " \n",
      "2022-02-22 11:17:52,970 - mmcv - INFO - \n",
      "backbone.layer2.3.bn3.weight - torch.Size([512]): \n",
      "PretrainedInit: load from torchvision://resnet50 \n",
      " \n",
      "2022-02-22 11:17:52,970 - mmcv - INFO - \n",
      "backbone.layer2.3.bn3.bias - torch.Size([512]): \n",
      "PretrainedInit: load from torchvision://resnet50 \n",
      " \n",
      "2022-02-22 11:17:52,970 - mmcv - INFO - \n",
      "backbone.layer3.0.conv1.weight - torch.Size([256, 512, 1, 1]): \n",
      "PretrainedInit: load from torchvision://resnet50 \n",
      " \n",
      "2022-02-22 11:17:52,971 - mmcv - INFO - \n",
      "backbone.layer3.0.bn1.weight - torch.Size([256]): \n",
      "PretrainedInit: load from torchvision://resnet50 \n",
      " \n",
      "2022-02-22 11:17:52,971 - mmcv - INFO - \n",
      "backbone.layer3.0.bn1.bias - torch.Size([256]): \n",
      "PretrainedInit: load from torchvision://resnet50 \n",
      " \n",
      "2022-02-22 11:17:52,971 - mmcv - INFO - \n",
      "backbone.layer3.0.conv2.weight - torch.Size([256, 256, 3, 3]): \n",
      "PretrainedInit: load from torchvision://resnet50 \n",
      " \n",
      "2022-02-22 11:17:52,971 - mmcv - INFO - \n",
      "backbone.layer3.0.bn2.weight - torch.Size([256]): \n",
      "PretrainedInit: load from torchvision://resnet50 \n",
      " \n",
      "2022-02-22 11:17:52,971 - mmcv - INFO - \n",
      "backbone.layer3.0.bn2.bias - torch.Size([256]): \n",
      "PretrainedInit: load from torchvision://resnet50 \n",
      " \n",
      "2022-02-22 11:17:52,972 - mmcv - INFO - \n",
      "backbone.layer3.0.conv3.weight - torch.Size([1024, 256, 1, 1]): \n",
      "PretrainedInit: load from torchvision://resnet50 \n",
      " \n",
      "2022-02-22 11:17:52,972 - mmcv - INFO - \n",
      "backbone.layer3.0.bn3.weight - torch.Size([1024]): \n",
      "PretrainedInit: load from torchvision://resnet50 \n",
      " \n",
      "2022-02-22 11:17:52,972 - mmcv - INFO - \n",
      "backbone.layer3.0.bn3.bias - torch.Size([1024]): \n",
      "PretrainedInit: load from torchvision://resnet50 \n",
      " \n",
      "2022-02-22 11:17:52,972 - mmcv - INFO - \n",
      "backbone.layer3.0.downsample.0.weight - torch.Size([1024, 512, 1, 1]): \n",
      "PretrainedInit: load from torchvision://resnet50 \n",
      " \n",
      "2022-02-22 11:17:52,973 - mmcv - INFO - \n",
      "backbone.layer3.0.downsample.1.weight - torch.Size([1024]): \n",
      "PretrainedInit: load from torchvision://resnet50 \n",
      " \n",
      "2022-02-22 11:17:52,973 - mmcv - INFO - \n",
      "backbone.layer3.0.downsample.1.bias - torch.Size([1024]): \n",
      "PretrainedInit: load from torchvision://resnet50 \n",
      " \n",
      "2022-02-22 11:17:52,973 - mmcv - INFO - \n",
      "backbone.layer3.1.conv1.weight - torch.Size([256, 1024, 1, 1]): \n",
      "PretrainedInit: load from torchvision://resnet50 \n",
      " \n",
      "2022-02-22 11:17:52,973 - mmcv - INFO - \n",
      "backbone.layer3.1.bn1.weight - torch.Size([256]): \n",
      "PretrainedInit: load from torchvision://resnet50 \n",
      " \n",
      "2022-02-22 11:17:52,973 - mmcv - INFO - \n",
      "backbone.layer3.1.bn1.bias - torch.Size([256]): \n",
      "PretrainedInit: load from torchvision://resnet50 \n",
      " \n",
      "2022-02-22 11:17:52,974 - mmcv - INFO - \n",
      "backbone.layer3.1.conv2.weight - torch.Size([256, 256, 3, 3]): \n",
      "PretrainedInit: load from torchvision://resnet50 \n",
      " \n",
      "2022-02-22 11:17:52,974 - mmcv - INFO - \n",
      "backbone.layer3.1.bn2.weight - torch.Size([256]): \n",
      "PretrainedInit: load from torchvision://resnet50 \n",
      " \n",
      "2022-02-22 11:17:52,974 - mmcv - INFO - \n",
      "backbone.layer3.1.bn2.bias - torch.Size([256]): \n",
      "PretrainedInit: load from torchvision://resnet50 \n",
      " \n",
      "2022-02-22 11:17:52,974 - mmcv - INFO - \n",
      "backbone.layer3.1.conv3.weight - torch.Size([1024, 256, 1, 1]): \n",
      "PretrainedInit: load from torchvision://resnet50 \n",
      " \n",
      "2022-02-22 11:17:52,974 - mmcv - INFO - \n",
      "backbone.layer3.1.bn3.weight - torch.Size([1024]): \n",
      "PretrainedInit: load from torchvision://resnet50 \n",
      " \n",
      "2022-02-22 11:17:52,975 - mmcv - INFO - \n",
      "backbone.layer3.1.bn3.bias - torch.Size([1024]): \n",
      "PretrainedInit: load from torchvision://resnet50 \n",
      " \n",
      "2022-02-22 11:17:52,975 - mmcv - INFO - \n",
      "backbone.layer3.2.conv1.weight - torch.Size([256, 1024, 1, 1]): \n",
      "PretrainedInit: load from torchvision://resnet50 \n",
      " \n",
      "2022-02-22 11:17:52,975 - mmcv - INFO - \n",
      "backbone.layer3.2.bn1.weight - torch.Size([256]): \n",
      "PretrainedInit: load from torchvision://resnet50 \n",
      " \n",
      "2022-02-22 11:17:52,975 - mmcv - INFO - \n",
      "backbone.layer3.2.bn1.bias - torch.Size([256]): \n",
      "PretrainedInit: load from torchvision://resnet50 \n",
      " \n",
      "2022-02-22 11:17:52,976 - mmcv - INFO - \n",
      "backbone.layer3.2.conv2.weight - torch.Size([256, 256, 3, 3]): \n",
      "PretrainedInit: load from torchvision://resnet50 \n",
      " \n",
      "2022-02-22 11:17:52,976 - mmcv - INFO - \n",
      "backbone.layer3.2.bn2.weight - torch.Size([256]): \n",
      "PretrainedInit: load from torchvision://resnet50 \n",
      " \n",
      "2022-02-22 11:17:52,976 - mmcv - INFO - \n",
      "backbone.layer3.2.bn2.bias - torch.Size([256]): \n",
      "PretrainedInit: load from torchvision://resnet50 \n",
      " \n",
      "2022-02-22 11:17:52,976 - mmcv - INFO - \n",
      "backbone.layer3.2.conv3.weight - torch.Size([1024, 256, 1, 1]): \n",
      "PretrainedInit: load from torchvision://resnet50 \n",
      " \n",
      "2022-02-22 11:17:52,976 - mmcv - INFO - \n",
      "backbone.layer3.2.bn3.weight - torch.Size([1024]): \n",
      "PretrainedInit: load from torchvision://resnet50 \n",
      " \n",
      "2022-02-22 11:17:52,977 - mmcv - INFO - \n",
      "backbone.layer3.2.bn3.bias - torch.Size([1024]): \n",
      "PretrainedInit: load from torchvision://resnet50 \n",
      " \n",
      "2022-02-22 11:17:52,977 - mmcv - INFO - \n",
      "backbone.layer3.3.conv1.weight - torch.Size([256, 1024, 1, 1]): \n",
      "PretrainedInit: load from torchvision://resnet50 \n",
      " \n",
      "2022-02-22 11:17:52,977 - mmcv - INFO - \n",
      "backbone.layer3.3.bn1.weight - torch.Size([256]): \n",
      "PretrainedInit: load from torchvision://resnet50 \n",
      " \n",
      "2022-02-22 11:17:52,977 - mmcv - INFO - \n",
      "backbone.layer3.3.bn1.bias - torch.Size([256]): \n",
      "PretrainedInit: load from torchvision://resnet50 \n",
      " \n",
      "2022-02-22 11:17:52,977 - mmcv - INFO - \n",
      "backbone.layer3.3.conv2.weight - torch.Size([256, 256, 3, 3]): \n",
      "PretrainedInit: load from torchvision://resnet50 \n",
      " \n",
      "2022-02-22 11:17:52,978 - mmcv - INFO - \n",
      "backbone.layer3.3.bn2.weight - torch.Size([256]): \n",
      "PretrainedInit: load from torchvision://resnet50 \n",
      " \n",
      "2022-02-22 11:17:52,978 - mmcv - INFO - \n",
      "backbone.layer3.3.bn2.bias - torch.Size([256]): \n",
      "PretrainedInit: load from torchvision://resnet50 \n",
      " \n",
      "2022-02-22 11:17:52,978 - mmcv - INFO - \n",
      "backbone.layer3.3.conv3.weight - torch.Size([1024, 256, 1, 1]): \n",
      "PretrainedInit: load from torchvision://resnet50 \n",
      " \n",
      "2022-02-22 11:17:52,978 - mmcv - INFO - \n",
      "backbone.layer3.3.bn3.weight - torch.Size([1024]): \n",
      "PretrainedInit: load from torchvision://resnet50 \n",
      " \n",
      "2022-02-22 11:17:52,978 - mmcv - INFO - \n",
      "backbone.layer3.3.bn3.bias - torch.Size([1024]): \n",
      "PretrainedInit: load from torchvision://resnet50 \n",
      " \n",
      "2022-02-22 11:17:52,979 - mmcv - INFO - \n",
      "backbone.layer3.4.conv1.weight - torch.Size([256, 1024, 1, 1]): \n",
      "PretrainedInit: load from torchvision://resnet50 \n",
      " \n",
      "2022-02-22 11:17:52,979 - mmcv - INFO - \n",
      "backbone.layer3.4.bn1.weight - torch.Size([256]): \n",
      "PretrainedInit: load from torchvision://resnet50 \n",
      " \n",
      "2022-02-22 11:17:52,979 - mmcv - INFO - \n",
      "backbone.layer3.4.bn1.bias - torch.Size([256]): \n",
      "PretrainedInit: load from torchvision://resnet50 \n",
      " \n",
      "2022-02-22 11:17:52,979 - mmcv - INFO - \n",
      "backbone.layer3.4.conv2.weight - torch.Size([256, 256, 3, 3]): \n",
      "PretrainedInit: load from torchvision://resnet50 \n",
      " \n",
      "2022-02-22 11:17:52,980 - mmcv - INFO - \n",
      "backbone.layer3.4.bn2.weight - torch.Size([256]): \n",
      "PretrainedInit: load from torchvision://resnet50 \n",
      " \n",
      "2022-02-22 11:17:52,980 - mmcv - INFO - \n",
      "backbone.layer3.4.bn2.bias - torch.Size([256]): \n",
      "PretrainedInit: load from torchvision://resnet50 \n",
      " \n",
      "2022-02-22 11:17:52,980 - mmcv - INFO - \n",
      "backbone.layer3.4.conv3.weight - torch.Size([1024, 256, 1, 1]): \n",
      "PretrainedInit: load from torchvision://resnet50 \n",
      " \n",
      "2022-02-22 11:17:52,980 - mmcv - INFO - \n",
      "backbone.layer3.4.bn3.weight - torch.Size([1024]): \n",
      "PretrainedInit: load from torchvision://resnet50 \n",
      " \n",
      "2022-02-22 11:17:52,980 - mmcv - INFO - \n",
      "backbone.layer3.4.bn3.bias - torch.Size([1024]): \n",
      "PretrainedInit: load from torchvision://resnet50 \n",
      " \n",
      "2022-02-22 11:17:52,981 - mmcv - INFO - \n",
      "backbone.layer3.5.conv1.weight - torch.Size([256, 1024, 1, 1]): \n",
      "PretrainedInit: load from torchvision://resnet50 \n",
      " \n",
      "2022-02-22 11:17:52,981 - mmcv - INFO - \n",
      "backbone.layer3.5.bn1.weight - torch.Size([256]): \n",
      "PretrainedInit: load from torchvision://resnet50 \n",
      " \n",
      "2022-02-22 11:17:52,981 - mmcv - INFO - \n",
      "backbone.layer3.5.bn1.bias - torch.Size([256]): \n",
      "PretrainedInit: load from torchvision://resnet50 \n",
      " \n",
      "2022-02-22 11:17:52,981 - mmcv - INFO - \n",
      "backbone.layer3.5.conv2.weight - torch.Size([256, 256, 3, 3]): \n",
      "PretrainedInit: load from torchvision://resnet50 \n",
      " \n",
      "2022-02-22 11:17:52,981 - mmcv - INFO - \n",
      "backbone.layer3.5.bn2.weight - torch.Size([256]): \n",
      "PretrainedInit: load from torchvision://resnet50 \n",
      " \n",
      "2022-02-22 11:17:52,982 - mmcv - INFO - \n",
      "backbone.layer3.5.bn2.bias - torch.Size([256]): \n",
      "PretrainedInit: load from torchvision://resnet50 \n",
      " \n",
      "2022-02-22 11:17:52,982 - mmcv - INFO - \n",
      "backbone.layer3.5.conv3.weight - torch.Size([1024, 256, 1, 1]): \n",
      "PretrainedInit: load from torchvision://resnet50 \n",
      " \n",
      "2022-02-22 11:17:52,982 - mmcv - INFO - \n",
      "backbone.layer3.5.bn3.weight - torch.Size([1024]): \n",
      "PretrainedInit: load from torchvision://resnet50 \n",
      " \n",
      "2022-02-22 11:17:52,982 - mmcv - INFO - \n",
      "backbone.layer3.5.bn3.bias - torch.Size([1024]): \n",
      "PretrainedInit: load from torchvision://resnet50 \n",
      " \n",
      "2022-02-22 11:17:52,982 - mmcv - INFO - \n",
      "backbone.layer4.0.conv1.weight - torch.Size([512, 1024, 1, 1]): \n",
      "PretrainedInit: load from torchvision://resnet50 \n",
      " \n",
      "2022-02-22 11:17:52,983 - mmcv - INFO - \n",
      "backbone.layer4.0.bn1.weight - torch.Size([512]): \n",
      "PretrainedInit: load from torchvision://resnet50 \n",
      " \n",
      "2022-02-22 11:17:52,983 - mmcv - INFO - \n",
      "backbone.layer4.0.bn1.bias - torch.Size([512]): \n",
      "PretrainedInit: load from torchvision://resnet50 \n",
      " \n",
      "2022-02-22 11:17:52,983 - mmcv - INFO - \n",
      "backbone.layer4.0.conv2.weight - torch.Size([512, 512, 3, 3]): \n",
      "PretrainedInit: load from torchvision://resnet50 \n",
      " \n",
      "2022-02-22 11:17:52,983 - mmcv - INFO - \n",
      "backbone.layer4.0.bn2.weight - torch.Size([512]): \n",
      "PretrainedInit: load from torchvision://resnet50 \n",
      " \n",
      "2022-02-22 11:17:52,983 - mmcv - INFO - \n",
      "backbone.layer4.0.bn2.bias - torch.Size([512]): \n",
      "PretrainedInit: load from torchvision://resnet50 \n",
      " \n",
      "2022-02-22 11:17:52,984 - mmcv - INFO - \n",
      "backbone.layer4.0.conv3.weight - torch.Size([2048, 512, 1, 1]): \n",
      "PretrainedInit: load from torchvision://resnet50 \n",
      " \n",
      "2022-02-22 11:17:52,984 - mmcv - INFO - \n",
      "backbone.layer4.0.bn3.weight - torch.Size([2048]): \n",
      "PretrainedInit: load from torchvision://resnet50 \n",
      " \n",
      "2022-02-22 11:17:52,984 - mmcv - INFO - \n",
      "backbone.layer4.0.bn3.bias - torch.Size([2048]): \n",
      "PretrainedInit: load from torchvision://resnet50 \n",
      " \n",
      "2022-02-22 11:17:52,984 - mmcv - INFO - \n",
      "backbone.layer4.0.downsample.0.weight - torch.Size([2048, 1024, 1, 1]): \n",
      "PretrainedInit: load from torchvision://resnet50 \n",
      " \n",
      "2022-02-22 11:17:52,985 - mmcv - INFO - \n",
      "backbone.layer4.0.downsample.1.weight - torch.Size([2048]): \n",
      "PretrainedInit: load from torchvision://resnet50 \n",
      " \n",
      "2022-02-22 11:17:52,985 - mmcv - INFO - \n",
      "backbone.layer4.0.downsample.1.bias - torch.Size([2048]): \n",
      "PretrainedInit: load from torchvision://resnet50 \n",
      " \n",
      "2022-02-22 11:17:52,985 - mmcv - INFO - \n",
      "backbone.layer4.1.conv1.weight - torch.Size([512, 2048, 1, 1]): \n",
      "PretrainedInit: load from torchvision://resnet50 \n",
      " \n",
      "2022-02-22 11:17:52,985 - mmcv - INFO - \n",
      "backbone.layer4.1.bn1.weight - torch.Size([512]): \n",
      "PretrainedInit: load from torchvision://resnet50 \n",
      " \n",
      "2022-02-22 11:17:52,985 - mmcv - INFO - \n",
      "backbone.layer4.1.bn1.bias - torch.Size([512]): \n",
      "PretrainedInit: load from torchvision://resnet50 \n",
      " \n",
      "2022-02-22 11:17:52,986 - mmcv - INFO - \n",
      "backbone.layer4.1.conv2.weight - torch.Size([512, 512, 3, 3]): \n",
      "PretrainedInit: load from torchvision://resnet50 \n",
      " \n",
      "2022-02-22 11:17:52,986 - mmcv - INFO - \n",
      "backbone.layer4.1.bn2.weight - torch.Size([512]): \n",
      "PretrainedInit: load from torchvision://resnet50 \n",
      " \n",
      "2022-02-22 11:17:52,986 - mmcv - INFO - \n",
      "backbone.layer4.1.bn2.bias - torch.Size([512]): \n",
      "PretrainedInit: load from torchvision://resnet50 \n",
      " \n",
      "2022-02-22 11:17:52,986 - mmcv - INFO - \n",
      "backbone.layer4.1.conv3.weight - torch.Size([2048, 512, 1, 1]): \n",
      "PretrainedInit: load from torchvision://resnet50 \n",
      " \n",
      "2022-02-22 11:17:52,986 - mmcv - INFO - \n",
      "backbone.layer4.1.bn3.weight - torch.Size([2048]): \n",
      "PretrainedInit: load from torchvision://resnet50 \n",
      " \n",
      "2022-02-22 11:17:52,987 - mmcv - INFO - \n",
      "backbone.layer4.1.bn3.bias - torch.Size([2048]): \n",
      "PretrainedInit: load from torchvision://resnet50 \n",
      " \n",
      "2022-02-22 11:17:52,987 - mmcv - INFO - \n",
      "backbone.layer4.2.conv1.weight - torch.Size([512, 2048, 1, 1]): \n",
      "PretrainedInit: load from torchvision://resnet50 \n",
      " \n",
      "2022-02-22 11:17:52,987 - mmcv - INFO - \n",
      "backbone.layer4.2.bn1.weight - torch.Size([512]): \n",
      "PretrainedInit: load from torchvision://resnet50 \n",
      " \n",
      "2022-02-22 11:17:52,987 - mmcv - INFO - \n",
      "backbone.layer4.2.bn1.bias - torch.Size([512]): \n",
      "PretrainedInit: load from torchvision://resnet50 \n",
      " \n",
      "2022-02-22 11:17:52,987 - mmcv - INFO - \n",
      "backbone.layer4.2.conv2.weight - torch.Size([512, 512, 3, 3]): \n",
      "PretrainedInit: load from torchvision://resnet50 \n",
      " \n",
      "2022-02-22 11:17:52,988 - mmcv - INFO - \n",
      "backbone.layer4.2.bn2.weight - torch.Size([512]): \n",
      "PretrainedInit: load from torchvision://resnet50 \n",
      " \n",
      "2022-02-22 11:17:52,988 - mmcv - INFO - \n",
      "backbone.layer4.2.bn2.bias - torch.Size([512]): \n",
      "PretrainedInit: load from torchvision://resnet50 \n",
      " \n",
      "2022-02-22 11:17:52,988 - mmcv - INFO - \n",
      "backbone.layer4.2.conv3.weight - torch.Size([2048, 512, 1, 1]): \n",
      "PretrainedInit: load from torchvision://resnet50 \n",
      " \n",
      "2022-02-22 11:17:52,988 - mmcv - INFO - \n",
      "backbone.layer4.2.bn3.weight - torch.Size([2048]): \n",
      "PretrainedInit: load from torchvision://resnet50 \n",
      " \n",
      "2022-02-22 11:17:52,989 - mmcv - INFO - \n",
      "backbone.layer4.2.bn3.bias - torch.Size([2048]): \n",
      "PretrainedInit: load from torchvision://resnet50 \n",
      " \n",
      "2022-02-22 11:17:52,989 - mmcv - INFO - \n",
      "neck.lateral_convs.0.conv.weight - torch.Size([256, 512, 1, 1]): \n",
      "XavierInit: gain=1, distribution=uniform, bias=0 \n",
      " \n",
      "2022-02-22 11:17:52,989 - mmcv - INFO - \n",
      "neck.lateral_convs.0.conv.bias - torch.Size([256]): \n",
      "The value is the same before and after calling `init_weights` of RetinaNet  \n",
      " \n",
      "2022-02-22 11:17:52,989 - mmcv - INFO - \n",
      "neck.lateral_convs.1.conv.weight - torch.Size([256, 1024, 1, 1]): \n",
      "XavierInit: gain=1, distribution=uniform, bias=0 \n",
      " \n",
      "2022-02-22 11:17:52,989 - mmcv - INFO - \n",
      "neck.lateral_convs.1.conv.bias - torch.Size([256]): \n",
      "The value is the same before and after calling `init_weights` of RetinaNet  \n",
      " \n",
      "2022-02-22 11:17:52,990 - mmcv - INFO - \n",
      "neck.lateral_convs.2.conv.weight - torch.Size([256, 2048, 1, 1]): \n",
      "XavierInit: gain=1, distribution=uniform, bias=0 \n",
      " \n",
      "2022-02-22 11:17:52,990 - mmcv - INFO - \n",
      "neck.lateral_convs.2.conv.bias - torch.Size([256]): \n",
      "The value is the same before and after calling `init_weights` of RetinaNet  \n",
      " \n",
      "2022-02-22 11:17:52,990 - mmcv - INFO - \n",
      "neck.fpn_convs.0.conv.weight - torch.Size([256, 256, 3, 3]): \n",
      "XavierInit: gain=1, distribution=uniform, bias=0 \n",
      " \n",
      "2022-02-22 11:17:52,990 - mmcv - INFO - \n",
      "neck.fpn_convs.0.conv.bias - torch.Size([256]): \n",
      "The value is the same before and after calling `init_weights` of RetinaNet  \n",
      " \n",
      "2022-02-22 11:17:52,990 - mmcv - INFO - \n",
      "neck.fpn_convs.1.conv.weight - torch.Size([256, 256, 3, 3]): \n",
      "XavierInit: gain=1, distribution=uniform, bias=0 \n",
      " \n",
      "2022-02-22 11:17:52,991 - mmcv - INFO - \n",
      "neck.fpn_convs.1.conv.bias - torch.Size([256]): \n",
      "The value is the same before and after calling `init_weights` of RetinaNet  \n",
      " \n",
      "2022-02-22 11:17:52,991 - mmcv - INFO - \n",
      "neck.fpn_convs.2.conv.weight - torch.Size([256, 256, 3, 3]): \n",
      "XavierInit: gain=1, distribution=uniform, bias=0 \n",
      " \n",
      "2022-02-22 11:17:52,991 - mmcv - INFO - \n",
      "neck.fpn_convs.2.conv.bias - torch.Size([256]): \n",
      "The value is the same before and after calling `init_weights` of RetinaNet  \n",
      " \n",
      "2022-02-22 11:17:52,991 - mmcv - INFO - \n",
      "neck.fpn_convs.3.conv.weight - torch.Size([256, 2048, 3, 3]): \n",
      "XavierInit: gain=1, distribution=uniform, bias=0 \n",
      " \n",
      "2022-02-22 11:17:52,992 - mmcv - INFO - \n",
      "neck.fpn_convs.3.conv.bias - torch.Size([256]): \n",
      "The value is the same before and after calling `init_weights` of RetinaNet  \n",
      " \n",
      "2022-02-22 11:17:52,997 - mmcv - INFO - \n",
      "neck.fpn_convs.4.conv.weight - torch.Size([256, 256, 3, 3]): \n",
      "XavierInit: gain=1, distribution=uniform, bias=0 \n",
      " \n",
      "2022-02-22 11:17:52,997 - mmcv - INFO - \n",
      "neck.fpn_convs.4.conv.bias - torch.Size([256]): \n",
      "The value is the same before and after calling `init_weights` of RetinaNet  \n",
      " \n",
      "2022-02-22 11:17:52,997 - mmcv - INFO - \n",
      "bbox_head.cls_convs.0.conv.weight - torch.Size([256, 256, 3, 3]): \n",
      "NormalInit: mean=0, std=0.01, bias=0 \n",
      " \n",
      "2022-02-22 11:17:52,997 - mmcv - INFO - \n",
      "bbox_head.cls_convs.0.conv.bias - torch.Size([256]): \n",
      "The value is the same before and after calling `init_weights` of RetinaNet  \n",
      " \n",
      "2022-02-22 11:17:52,997 - mmcv - INFO - \n",
      "bbox_head.cls_convs.1.conv.weight - torch.Size([256, 256, 3, 3]): \n",
      "NormalInit: mean=0, std=0.01, bias=0 \n",
      " \n",
      "2022-02-22 11:17:52,998 - mmcv - INFO - \n",
      "bbox_head.cls_convs.1.conv.bias - torch.Size([256]): \n",
      "The value is the same before and after calling `init_weights` of RetinaNet  \n",
      " \n",
      "2022-02-22 11:17:52,998 - mmcv - INFO - \n",
      "bbox_head.cls_convs.2.conv.weight - torch.Size([256, 256, 3, 3]): \n",
      "NormalInit: mean=0, std=0.01, bias=0 \n",
      " \n",
      "2022-02-22 11:17:52,998 - mmcv - INFO - \n",
      "bbox_head.cls_convs.2.conv.bias - torch.Size([256]): \n",
      "The value is the same before and after calling `init_weights` of RetinaNet  \n",
      " \n",
      "2022-02-22 11:17:52,998 - mmcv - INFO - \n",
      "bbox_head.cls_convs.3.conv.weight - torch.Size([256, 256, 3, 3]): \n",
      "NormalInit: mean=0, std=0.01, bias=0 \n",
      " \n",
      "2022-02-22 11:17:52,998 - mmcv - INFO - \n",
      "bbox_head.cls_convs.3.conv.bias - torch.Size([256]): \n",
      "The value is the same before and after calling `init_weights` of RetinaNet  \n",
      " \n",
      "2022-02-22 11:17:52,999 - mmcv - INFO - \n",
      "bbox_head.reg_convs.0.conv.weight - torch.Size([256, 256, 3, 3]): \n",
      "NormalInit: mean=0, std=0.01, bias=0 \n",
      " \n",
      "2022-02-22 11:17:52,999 - mmcv - INFO - \n",
      "bbox_head.reg_convs.0.conv.bias - torch.Size([256]): \n",
      "The value is the same before and after calling `init_weights` of RetinaNet  \n",
      " \n",
      "2022-02-22 11:17:52,999 - mmcv - INFO - \n",
      "bbox_head.reg_convs.1.conv.weight - torch.Size([256, 256, 3, 3]): \n",
      "NormalInit: mean=0, std=0.01, bias=0 \n",
      " \n",
      "2022-02-22 11:17:52,999 - mmcv - INFO - \n",
      "bbox_head.reg_convs.1.conv.bias - torch.Size([256]): \n",
      "The value is the same before and after calling `init_weights` of RetinaNet  \n",
      " \n",
      "2022-02-22 11:17:52,999 - mmcv - INFO - \n",
      "bbox_head.reg_convs.2.conv.weight - torch.Size([256, 256, 3, 3]): \n",
      "NormalInit: mean=0, std=0.01, bias=0 \n",
      " \n",
      "2022-02-22 11:17:53,000 - mmcv - INFO - \n",
      "bbox_head.reg_convs.2.conv.bias - torch.Size([256]): \n",
      "The value is the same before and after calling `init_weights` of RetinaNet  \n",
      " \n",
      "2022-02-22 11:17:53,000 - mmcv - INFO - \n",
      "bbox_head.reg_convs.3.conv.weight - torch.Size([256, 256, 3, 3]): \n",
      "NormalInit: mean=0, std=0.01, bias=0 \n",
      " \n",
      "2022-02-22 11:17:53,000 - mmcv - INFO - \n",
      "bbox_head.reg_convs.3.conv.bias - torch.Size([256]): \n",
      "The value is the same before and after calling `init_weights` of RetinaNet  \n",
      " \n",
      "2022-02-22 11:17:53,000 - mmcv - INFO - \n",
      "bbox_head.retina_cls.weight - torch.Size([720, 256, 3, 3]): \n",
      "NormalInit: mean=0, std=0.01, bias=-4.59511985013459 \n",
      " \n",
      "2022-02-22 11:17:53,000 - mmcv - INFO - \n",
      "bbox_head.retina_cls.bias - torch.Size([720]): \n",
      "NormalInit: mean=0, std=0.01, bias=-4.59511985013459 \n",
      " \n",
      "2022-02-22 11:17:53,001 - mmcv - INFO - \n",
      "bbox_head.retina_reg.weight - torch.Size([36, 256, 3, 3]): \n",
      "NormalInit: mean=0, std=0.01, bias=0 \n",
      " \n",
      "2022-02-22 11:17:53,001 - mmcv - INFO - \n",
      "bbox_head.retina_reg.bias - torch.Size([36]): \n",
      "NormalInit: mean=0, std=0.01, bias=0 \n",
      " \n"
     ]
    }
   ],
   "source": [
    "import mmcv\n",
    "import torch\n",
    "from mmcv import Config, DictAction\n",
    "from mmcv.runner import get_dist_info, init_dist\n",
    "from mmcv.utils import get_git_hash\n",
    "\n",
    "from mmdet import __version__\n",
    "from mmdet.apis import set_random_seed, train_detector\n",
    "from mmdet.datasets import build_dataset\n",
    "from mmdet.models import build_detector\n",
    "from mmdet.utils import collect_env, get_root_logger\n",
    "\n",
    "mmconfig='mmconfigs/retinanet/retinanet_r50_fpn_1x_coco.py'\n",
    "mmcfg = Config.fromfile(mmconfig)\n",
    "mm_model = build_detector(\n",
    "        mmcfg.model,\n",
    "        train_cfg=mmcfg.get('train_cfg'),\n",
    "        test_cfg=mmcfg.get('test_cfg'))\n",
    "mm_model.init_weights()"
   ]
  },
  {
   "cell_type": "code",
   "execution_count": 6,
   "metadata": {},
   "outputs": [
    {
     "name": "stdout",
     "output_type": "stream",
     "text": [
      "loading annotations into memory...\n",
      "Done (t=0.26s)\n",
      "creating index...\n",
      "index created!\n"
     ]
    }
   ],
   "source": [
    "from mmdet.datasets import (build_dataloader, build_dataset,\n",
    "                            replace_ImageToTensor)\n",
    "mm_dataset = build_dataset(mmcfg.data.test)\n",
    "mm_data_loader = build_dataloader(\n",
    "    mm_dataset,\n",
    "    samples_per_gpu=2,\n",
    "    workers_per_gpu=0,\n",
    "    dist=False,\n",
    "    shuffle=False)"
   ]
  },
  {
   "cell_type": "code",
   "execution_count": 72,
   "metadata": {},
   "outputs": [
    {
     "name": "stdout",
     "output_type": "stream",
     "text": [
      "(256, 256)\n",
      "(256, 256)\n",
      "(256, 256)\n",
      "(256, 256)\n",
      "(256, 256)\n",
      "(256, 256)\n"
     ]
    }
   ],
   "source": [
    "import numpy as np\n",
    "result = np.zeros((256,256,3),dtype=np.uint8)\n",
    "for i in range(3):\n",
    "    im = np.tile(np.arange(256,dtype=np.uint8),(256,1))\n",
    "    print(im.shape)\n",
    "    result[:,:,i]=im\n",
    "    print(result[:,:,i].shape)\n"
   ]
  },
  {
   "cell_type": "code",
   "execution_count": 76,
   "metadata": {},
   "outputs": [
    {
     "name": "stdout",
     "output_type": "stream",
     "text": [
      "0\n"
     ]
    },
    {
     "data": {
      "text/plain": [
       "<matplotlib.image.AxesImage at 0x7f5ad9dcc640>"
      ]
     },
     "execution_count": 76,
     "metadata": {},
     "output_type": "execute_result"
    },
    {
     "data": {
      "image/png": "[encoded data removed]",
      "text/plain": [
       "<Figure size 432x288 with 1 Axes>"
      ]
     },
     "metadata": {
      "needs_background": "light"
     },
     "output_type": "display_data"
    },
    {
     "data": {
      "image/png": "[encoded data removed]",
      "text/plain": [
       "<Figure size 432x288 with 1 Axes>"
      ]
     },
     "metadata": {
      "needs_background": "light"
     },
     "output_type": "display_data"
    },
    {
     "data": {
      "image/png": "[encoded data removed]",
      "text/plain": [
       "<Figure size 432x288 with 1 Axes>"
      ]
     },
     "metadata": {
      "needs_background": "light"
     },
     "output_type": "display_data"
    }
   ],
   "source": [
    "# There is a explaination for resize https://github.com/python-pillow/Pillow/issues/2718\n",
    "%matplotlib inline\n",
    "from PIL import Image\n",
    "from matplotlib import pyplot as plt\n",
    "import cv2\n",
    "import numpy as np\n",
    "im_path ='data/coco/val2017/000000532481.jpg'\n",
    "pil_im = Image.open(im_path).convert('RGB')\n",
    "#pil_im = Image.fromarray(result)\n",
    "np_im = np.array(pil_im)\n",
    "#cv_im = cv2.imread(im_path)\n",
    "cv_im = np_im.copy()\n",
    "#cv_im = cv2.cvtColor(cv_im, cv2.COLOR_BGR2RGB)\n",
    "cv_resized=cv2.resize(cv_im, (1202,800), interpolation=cv2.INTER_LINEAR)\n",
    "pil_resized = pil_im.resize((1202,800),Image.BILINEAR)\n",
    "np_resized = np.array(pil_resized)\n",
    "\n",
    "diff=(pil_im-cv_im)\n",
    "print(diff.sum())\n",
    "plt.imshow(diff)\n",
    "plt.figure()\n",
    "plt.imshow(np_resized)\n",
    "plt.figure()\n",
    "plt.imshow(cv_resized)\n"
   ]
  },
  {
   "cell_type": "code",
   "execution_count": 26,
   "metadata": {},
   "outputs": [
    {
     "data": {
      "text/plain": [
       "({'data': <PIL.Image.Image image mode=RGB size=640x426 at 0x7FF001ABC850>,\n",
       "  'im_path': '/home/dsv/qida0163/data/datasets/COCO/val2017/000000532481.jpg'},\n",
       " {'boxes': array([[250.82, 168.26, 320.93, 233.14],\n",
       "         [435.35, 294.23, 448.81, 302.04],\n",
       "         [447.44, 293.91, 459.6 , 301.56],\n",
       "         [460.59, 291.71, 473.34, 300.16],\n",
       "         [407.07, 287.25, 419.72, 297.11],\n",
       "         [618.06, 289.31, 629.66, 297.26],\n",
       "         [512.3 , 294.07, 533.48, 299.64],\n",
       "         [285.55, 370.56, 297.62, 389.77],\n",
       "         [ 61.61,  43.76, 107.89, 122.05],\n",
       "         [238.54, 158.48, 299.7 , 213.87]], dtype=float32),\n",
       "  'labels': array([ 1,  3,  3,  3,  3,  3,  3,  1, 34, 38]),\n",
       "  'image_id': 532481})"
      ]
     },
     "execution_count": 26,
     "metadata": {},
     "output_type": "execute_result"
    }
   ],
   "source": [
    "dataset[0]"
   ]
  },
  {
   "cell_type": "code",
   "execution_count": 13,
   "metadata": {},
   "outputs": [
    {
     "name": "stdout",
     "output_type": "stream",
     "text": [
      "{'img_metas': [DataContainer([[{'filename': 'data/coco/val2017/000000532481.jpg', 'ori_filename': '000000532481.jpg', 'ori_shape': (426, 640, 3), 'img_shape': (800, 1202, 3), 'pad_shape': (800, 1216, 3), 'scale_factor': array([1.878125 , 1.8779342, 1.878125 , 1.8779342], dtype=float32), 'flip': False, 'flip_direction': None, 'img_norm_cfg': {'mean': array([123.675, 116.28 , 103.53 ], dtype=float32), 'std': array([58.395, 57.12 , 57.375], dtype=float32), 'to_rgb': True}}]])], 'img': [tensor([[[[ 0.2624,  0.3309,  0.4679,  ...,  0.0000,  0.0000,  0.0000],\n",
      "          [ 0.2967,  0.3652,  0.5022,  ...,  0.0000,  0.0000,  0.0000],\n",
      "          [ 0.3823,  0.4508,  0.5878,  ...,  0.0000,  0.0000,  0.0000],\n",
      "          ...,\n",
      "          [-0.3541, -0.4397, -0.5938,  ...,  0.0000,  0.0000,  0.0000],\n",
      "          [-0.0458, -0.1314, -0.3027,  ...,  0.0000,  0.0000,  0.0000],\n",
      "          [ 0.1254,  0.0398, -0.1314,  ...,  0.0000,  0.0000,  0.0000]],\n",
      "\n",
      "         [[ 1.0280,  1.0105,  0.9755,  ...,  0.0000,  0.0000,  0.0000],\n",
      "          [ 1.0455,  1.0280,  0.9930,  ...,  0.0000,  0.0000,  0.0000],\n",
      "          [ 1.0630,  1.0455,  1.0455,  ...,  0.0000,  0.0000,  0.0000],\n",
      "          ...,\n",
      "          [ 0.1702,  0.2227,  0.3277,  ...,  0.0000,  0.0000,  0.0000],\n",
      "          [ 0.1527,  0.1702,  0.2402,  ...,  0.0000,  0.0000,  0.0000],\n",
      "          [ 0.1352,  0.1527,  0.1877,  ...,  0.0000,  0.0000,  0.0000]],\n",
      "\n",
      "         [[ 1.1759,  1.2282,  1.3154,  ...,  0.0000,  0.0000,  0.0000],\n",
      "          [ 1.2108,  1.2457,  1.3328,  ...,  0.0000,  0.0000,  0.0000],\n",
      "          [ 1.2631,  1.2980,  1.3677,  ...,  0.0000,  0.0000,  0.0000],\n",
      "          ...,\n",
      "          [ 0.4439,  0.4788,  0.5659,  ...,  0.0000,  0.0000,  0.0000],\n",
      "          [ 0.2696,  0.3219,  0.3916,  ...,  0.0000,  0.0000,  0.0000],\n",
      "          [ 0.1825,  0.2348,  0.3045,  ...,  0.0000,  0.0000,  0.0000]]]])]}\n"
     ]
    }
   ],
   "source": [
    "for o in mm_data_loader:\n",
    "    if o['img_metas'][0].data[0][0]['ori_filename'] == '000000532481.jpg':\n",
    "        print(o)\n",
    "        break"
   ]
  },
  {
   "cell_type": "code",
   "execution_count": 6,
   "metadata": {},
   "outputs": [
    {
     "name": "stdout",
     "output_type": "stream",
     "text": [
      "{'img_metas': [DataContainer([[{'filename': 'data/coco/val2017/000000532481.jpg', 'ori_filename': '000000532481.jpg', 'ori_shape': (426, 640, 3), 'img_shape': (800, 1202, 3), 'pad_shape': (800, 1216, 3), 'scale_factor': array([1.878125 , 1.8779342, 1.878125 , 1.8779342], dtype=float32), 'flip': False, 'flip_direction': None, 'img_norm_cfg': {'mean': array([123.675, 116.28 , 103.53 ], dtype=float32), 'std': array([58.395, 57.12 , 57.375], dtype=float32), 'to_rgb': True}}]])], 'img': [tensor([[[[ 0.2624,  0.3309,  0.4508,  ...,  0.0000,  0.0000,  0.0000],\n",
      "          [ 0.2967,  0.3823,  0.5022,  ...,  0.0000,  0.0000,  0.0000],\n",
      "          [ 0.3652,  0.4508,  0.5878,  ...,  0.0000,  0.0000,  0.0000],\n",
      "          ...,\n",
      "          [-0.3541, -0.4397, -0.5938,  ...,  0.0000,  0.0000,  0.0000],\n",
      "          [-0.0458, -0.1314, -0.3027,  ...,  0.0000,  0.0000,  0.0000],\n",
      "          [ 0.1254,  0.0227, -0.1314,  ...,  0.0000,  0.0000,  0.0000]],\n",
      "\n",
      "         [[ 1.0280,  1.0105,  0.9755,  ...,  0.0000,  0.0000,  0.0000],\n",
      "          [ 1.0280,  1.0280,  0.9930,  ...,  0.0000,  0.0000,  0.0000],\n",
      "          [ 1.0630,  1.0455,  1.0455,  ...,  0.0000,  0.0000,  0.0000],\n",
      "          ...,\n",
      "          [ 0.1527,  0.2227,  0.3277,  ...,  0.0000,  0.0000,  0.0000],\n",
      "          [ 0.1352,  0.1877,  0.2402,  ...,  0.0000,  0.0000,  0.0000],\n",
      "          [ 0.1352,  0.1527,  0.1877,  ...,  0.0000,  0.0000,  0.0000]],\n",
      "\n",
      "         [[ 1.1759,  1.2282,  1.3154,  ...,  0.0000,  0.0000,  0.0000],\n",
      "          [ 1.2108,  1.2457,  1.3328,  ...,  0.0000,  0.0000,  0.0000],\n",
      "          [ 1.2631,  1.2980,  1.3677,  ...,  0.0000,  0.0000,  0.0000],\n",
      "          ...,\n",
      "          [ 0.4439,  0.4788,  0.5659,  ...,  0.0000,  0.0000,  0.0000],\n",
      "          [ 0.2696,  0.3219,  0.3916,  ...,  0.0000,  0.0000,  0.0000],\n",
      "          [ 0.1825,  0.2348,  0.3045,  ...,  0.0000,  0.0000,  0.0000]]]])]}\n"
     ]
    }
   ],
   "source": [
    "for o in mm_data_loader:\n",
    "    if o['img_metas'][0].data[0][0]['ori_filename'] == '000000532481.jpg':\n",
    "        print(o)\n",
    "        break"
   ]
  },
  {
   "cell_type": "code",
   "execution_count": 29,
   "metadata": {},
   "outputs": [
    {
     "data": {
      "text/plain": [
       "tensor(2.3842e-07)"
      ]
     },
     "execution_count": 29,
     "metadata": {},
     "output_type": "execute_result"
    }
   ],
   "source": [
    "((inputs['data'][0]-o['img'][0][0]).max())"
   ]
  },
  {
   "cell_type": "code",
   "execution_count": 8,
   "metadata": {},
   "outputs": [
    {
     "data": {
      "text/plain": [
       "<All keys matched successfully>"
      ]
     },
     "execution_count": 8,
     "metadata": {},
     "output_type": "execute_result"
    }
   ],
   "source": [
    "model.backbone.load_state_dict(mm_model.backbone.state_dict(),strict=True)"
   ]
  },
  {
   "cell_type": "code",
   "execution_count": 7,
   "metadata": {},
   "outputs": [],
   "source": [
    "with torch.no_grad():\n",
    "    for i in range(3):\n",
    "        model.neck.inner_blocks[i].weight.copy_(mm_model.neck.lateral_convs[i].conv.weight)\n",
    "        model.neck.layer_blocks[i].weight.copy_(mm_model.neck.fpn_convs[i].conv.weight)\n",
    "    model.neck.extra_blocks.p6.weight.copy_(mm_model.neck.fpn_convs[3].conv.weight)\n",
    "    model.neck.extra_blocks.p7.weight.copy_(mm_model.neck.fpn_convs[4].conv.weight)"
   ]
  },
  {
   "cell_type": "code",
   "execution_count": 8,
   "metadata": {},
   "outputs": [],
   "source": [
    "with torch.no_grad():\n",
    "    for i in range(4):\n",
    "        model.det_head.head.cls_head[2*i].weight.copy_(mm_model.bbox_head.cls_convs[i].conv.weight)\n",
    "        model.det_head.head.bbox_head[2*i].weight.copy_(mm_model.bbox_head.reg_convs[i].conv.weight)\n",
    "    \n",
    "    model.det_head.head.cls_head[8].weight.copy_(mm_model.bbox_head.retina_cls.weight)\n",
    "    model.det_head.head.bbox_head[8].weight.copy_(mm_model.bbox_head.retina_reg.weight)"
   ]
  },
  {
   "cell_type": "code",
   "execution_count": 9,
   "metadata": {},
   "outputs": [
    {
     "name": "stdout",
     "output_type": "stream",
     "text": [
      "mem 0: 9 MB\n",
      "max mem 0: 9 MB\n",
      "mem 1: 9 MB\n",
      "max mem 1: 9 MB\n",
      "mem 0: 156 MB\n",
      "max mem 0: 156 MB\n",
      "mem 1: 156 MB\n",
      "max mem 1: 156 MB\n"
     ]
    }
   ],
   "source": [
    "print_mem()\n",
    "model = model.to(device1)\n",
    "mm_model = mm_model.to(device2)\n",
    "print_mem()"
   ]
  },
  {
   "cell_type": "code",
   "execution_count": 21,
   "metadata": {},
   "outputs": [
    {
     "name": "stdout",
     "output_type": "stream",
     "text": [
      "mem 0: 1238 MB\n",
      "max mem 0: 2813 MB\n",
      "mem 1: 1208 MB\n",
      "max mem 1: 2735 MB\n",
      "mem 0: 3520 MB\n",
      "max mem 0: 3825 MB\n",
      "mem 1: 3508 MB\n",
      "max mem 1: 3784 MB\n"
     ]
    }
   ],
   "source": [
    "from torchcore.data.datasets.convert_my_input_to_mmdet import convert_to_mmdet\n",
    "print_mem()\n",
    "model.train()\n",
    "loss = model(inputs1, targets1)\n",
    "mm_model.train()\n",
    "img_meta, gt_boxes,gt_labels = convert_to_mmdet(inputs2, targets2)\n",
    "#the losses of five layers\n",
    "mm_loss=mm_model(inputs2['data'],img_meta,gt_bboxes=gt_boxes,gt_labels=gt_labels)\n",
    "mm_losses_sum={}\n",
    "for k,v in mm_loss.items():\n",
    "    mm_losses_sum[k]=sum(v)\n",
    "mm_loss = mm_losses_sum\n",
    "print_mem()"
   ]
  },
  {
   "cell_type": "code",
   "execution_count": 22,
   "metadata": {},
   "outputs": [
    {
     "name": "stdout",
     "output_type": "stream",
     "text": [
      "{'loss_objectness': tensor(1.1842, device='cuda:0', grad_fn=<DivBackward0>), 'loss_box_reg': tensor(0.7161, device='cuda:0', grad_fn=<DivBackward0>)}\n",
      "{'loss_cls': tensor(1.1652, device='cuda:1', grad_fn=<AddBackward0>), 'loss_bbox': tensor(0.6982, device='cuda:1', grad_fn=<AddBackward0>)}\n"
     ]
    }
   ],
   "source": [
    "print(loss)\n",
    "print(mm_loss)"
   ]
  },
  {
   "cell_type": "code",
   "execution_count": 12,
   "metadata": {},
   "outputs": [
    {
     "name": "stdout",
     "output_type": "stream",
     "text": [
      "[{'img_shape': torch.Size([800, 1254]), 'scale_factor': torch.Size([800, 1254]), 'flip': False, 'pad_shape': (1088, 1280, 3), 'batch_input_shape': (1088, 1280)}, {'img_shape': torch.Size([1066, 800]), 'scale_factor': torch.Size([1066, 800]), 'flip': False, 'pad_shape': (1088, 1280, 3), 'batch_input_shape': (1088, 1280)}]\n"
     ]
    }
   ],
   "source": [
    "print(img_meta)"
   ]
  },
  {
   "cell_type": "code",
   "execution_count": 18,
   "metadata": {},
   "outputs": [
    {
     "name": "stdout",
     "output_type": "stream",
     "text": [
      "8 my obj: 1.1683757305145264, bbox: 0.7193359136581421\n",
      "8 mm obj: 1.1683759689331055, bbox: 0.7163808941841125\n",
      "\n",
      "28 my obj: 1.1695691347122192, bbox: 0.6951692700386047\n",
      "28 mm obj: 1.1695661544799805, bbox: 0.6951652765274048\n",
      "\n"
     ]
    }
   ],
   "source": [
    "from torchcore.data.util import set_device\n",
    "model.train()\n",
    "mm_model.train()\n",
    "for i, (inputs, targets) in enumerate(val_dataset_loader):\n",
    "    #results = model(inputs, targets)\n",
    "    inputs1 = set_device(inputs, device1)\n",
    "    targets1 = set_device(targets,device1)\n",
    "    loss = model(inputs1, targets1)\n",
    "    inputs2 = set_device(inputs, device2)\n",
    "    targets2 = set_device(targets,device2)\n",
    "    img_meta = [{'img_shape':imsize,'scale_factor':imscale,'flip':False} for imsize,imscale in zip(inputs2['image_sizes'],inputs2['image_sizes'])]\n",
    "    for meta in img_meta:\n",
    "        meta['pad_shape'] = (inputs2['data'].shape[2],inputs2['data'].shape[3],inputs1['data'].shape[1])\n",
    "    gt_boxes = [t['boxes'] for t in targets2]\n",
    "    gt_labels = [t['labels']-1 for t in targets2]\n",
    "    #the losses of five layers\n",
    "    mm_loss=mm_model(inputs2['data'],img_meta,gt_bboxes=gt_boxes,gt_labels=gt_labels)\n",
    "    mm_losses_sum={}\n",
    "    for k,v in mm_loss.items():\n",
    "        mm_losses_sum[k]=sum(v)\n",
    "    mm_loss = mm_losses_sum\n",
    "    loss_sum = sum(loss.values())\n",
    "    mm_loss_sum = sum(mm_loss.values())\n",
    "    min_num = 1e-6\n",
    "    if abs(loss['loss_objectness'].item()-mm_loss['loss_cls'].item()) > min_num or abs(loss['loss_box_reg'].item() -mm_loss['loss_bbox'].item()) > min_num:\n",
    "        print('{} my obj: {}, bbox: {}'.format(i, loss['loss_objectness'],loss['loss_box_reg']))\n",
    "        print('{} mm obj: {}, bbox: {}'.format(i, mm_loss['loss_cls'],mm_loss['loss_bbox']))\n",
    "        print()\n",
    "\n",
    "    #loss_sum.backward()\n",
    "    #mm_loss_sum.backward()\n",
    "\n",
    "    if i>50:\n",
    "        break"
   ]
  },
  {
   "cell_type": "code",
   "execution_count": 19,
   "metadata": {},
   "outputs": [
    {
     "name": "stdout",
     "output_type": "stream",
     "text": [
      "mem 0: 6285 MB\n",
      "max mem 0: 7671 MB\n",
      "mem 1: 6259 MB\n",
      "max mem 1: 7612 MB\n",
      "mem 0: 3516 MB\n",
      "max mem 0: 7671 MB\n",
      "mem 1: 3465 MB\n",
      "max mem 1: 7612 MB\n"
     ]
    }
   ],
   "source": [
    "print_mem()\n",
    "loss_sum = sum(loss.values())\n",
    "mm_loss_sum = sum(mm_loss.values())\n",
    "print_mem()"
   ]
  },
  {
   "cell_type": "code",
   "execution_count": 20,
   "metadata": {},
   "outputs": [
    {
     "name": "stdout",
     "output_type": "stream",
     "text": [
      "mm class: 1.6429935693740845\n",
      "my class: 259.4184875488281\n",
      "mm box: 0.6266438364982605\n",
      "my box: 0.6261938214302063\n"
     ]
    }
   ],
   "source": [
    "print('mm class: {}'.format(mm_loss['loss_cls']))\n",
    "print('my class: {}'.format(loss['loss_objectness']))\n",
    "print('mm box: {}'.format(mm_loss['loss_bbox']))\n",
    "print('my box: {}'.format(loss['loss_box_reg']))"
   ]
  },
  {
   "cell_type": "code",
   "execution_count": 53,
   "metadata": {},
   "outputs": [],
   "source": [
    "torch.cuda.empty_cache()"
   ]
  },
  {
   "cell_type": "code",
   "execution_count": 22,
   "metadata": {},
   "outputs": [
    {
     "name": "stdout",
     "output_type": "stream",
     "text": [
      "mem 0: 0 MB\n",
      "max mem 0: 0 MB\n",
      "mem 1: 3940 MB\n",
      "max mem 1: 5131 MB\n",
      "mem 0: 0 MB\n",
      "max mem 0: 0 MB\n",
      "mem 1: 5530 MB\n",
      "max mem 1: 5540 MB\n"
     ]
    }
   ],
   "source": [
    "print_mem()\n",
    "model.train()\n",
    "out = model.backbone(inputs1['data'])\n",
    "mm_model.train()\n",
    "mm_out=mm_model.backbone(inputs2['data'])\n",
    "print_mem()"
   ]
  },
  {
   "cell_type": "code",
   "execution_count": 23,
   "metadata": {},
   "outputs": [
    {
     "name": "stdout",
     "output_type": "stream",
     "text": [
      "mem 0: 0 MB\n",
      "max mem 0: 0 MB\n",
      "mem 1: 5530 MB\n",
      "max mem 1: 5540 MB\n",
      "mem 0: 0 MB\n",
      "max mem 0: 0 MB\n",
      "mem 1: 5602 MB\n",
      "max mem 1: 5645 MB\n"
     ]
    }
   ],
   "source": [
    "print_mem()\n",
    "out = model.neck(out)\n",
    "mm_out = mm_model.neck(mm_out)\n",
    "print_mem()"
   ]
  },
  {
   "cell_type": "code",
   "execution_count": 24,
   "metadata": {},
   "outputs": [
    {
     "name": "stdout",
     "output_type": "stream",
     "text": [
      "mem 0: 0 MB\n",
      "max mem 0: 0 MB\n",
      "mem 1: 5602 MB\n",
      "max mem 1: 5645 MB\n",
      "mem 0: 0 MB\n",
      "max mem 0: 0 MB\n",
      "mem 1: 5802 MB\n",
      "max mem 1: 5880 MB\n"
     ]
    }
   ],
   "source": [
    "\n",
    "from mmdet.core import (anchor_inside_flags, build_assigner, build_bbox_coder,\n",
    "                        build_prior_generator, build_sampler, images_to_levels,\n",
    "                        multi_apply, unmap)\n",
    "print_mem()\n",
    "out_head = model.det_head.head(out)\n",
    "mm_head_out = multi_apply(mm_model.bbox_head.forward_single, mm_out)\n",
    "print_mem()"
   ]
  },
  {
   "cell_type": "code",
   "execution_count": 13,
   "metadata": {},
   "outputs": [
    {
     "name": "stdout",
     "output_type": "stream",
     "text": [
      "1: 1364539392\n",
      "2: 1364366848\n",
      "1: 2004828672\n",
      "2: 2565340672\n"
     ]
    }
   ],
   "source": [
    "print_mem()\n",
    "\n",
    "img_meta = [{'img_shape':imsize,'scale_factor':imscale,'flip':False} for imsize,imscale in zip(inputs2['image_sizes'],inputs2['image_sizes'])]\n",
    "for meta in img_meta:\n",
    "    meta['pad_shape'] = (inputs2['data'].shape[2],inputs2['data'].shape[3],inputs2['data'].shape[1])\n",
    "gt_boxes = [t['boxes'] for t in targets2]\n",
    "gt_labels = [t['labels'] for t in targets2]\n",
    "#the losses of five layers\n",
    "losses=mm_model(inputs2['data'],img_meta,gt_bboxes=gt_boxes,gt_labels=gt_labels)\n",
    "loss = model.det_head(inputs1,out,targets1)\n",
    "print_mem()"
   ]
  },
  {
   "cell_type": "code",
   "execution_count": 17,
   "metadata": {},
   "outputs": [
    {
     "name": "stdout",
     "output_type": "stream",
     "text": [
      "{'loss_cls': tensor(1.2190, device='cuda:2', grad_fn=<AddBackward0>), 'loss_bbox': tensor(0.7460, device='cuda:2', grad_fn=<AddBackward0>)}\n"
     ]
    }
   ],
   "source": [
    "losses_sum={}\n",
    "for k,v in losses.items():\n",
    "    losses_sum[k]=sum(v)\n",
    "print(losses_sum)"
   ]
  },
  {
   "cell_type": "code",
   "execution_count": 22,
   "metadata": {},
   "outputs": [
    {
     "data": {
      "text/plain": [
       "tensor(5.9605e-08, grad_fn=<SubBackward0>)"
      ]
     },
     "execution_count": 22,
     "metadata": {},
     "output_type": "execute_result"
    }
   ],
   "source": [
    "loss['loss_box_reg']-losses_sum['loss_bbox']"
   ]
  },
  {
   "cell_type": "code",
   "execution_count": 18,
   "metadata": {},
   "outputs": [
    {
     "data": {
      "text/plain": [
       "tensor(0.0002, grad_fn=<SubBackward0>)"
      ]
     },
     "execution_count": 18,
     "metadata": {},
     "output_type": "execute_result"
    }
   ],
   "source": [
    "loss['loss_objectness']-losses_sum['loss_cls']"
   ]
  },
  {
   "cell_type": "code",
   "execution_count": 23,
   "metadata": {},
   "outputs": [
    {
     "name": "stdout",
     "output_type": "stream",
     "text": [
      "{'loss_objectness': tensor(1.1842, device='cuda:0', grad_fn=<DivBackward0>), 'loss_box_reg': tensor(0.7161, device='cuda:0', grad_fn=<DivBackward0>)}\n"
     ]
    }
   ],
   "source": [
    "model.train()\n",
    "out = model.backbone(inputs1['data'])\n",
    "out = model.neck(out)\n",
    "out = list(out.values())\n",
    "out_head = model.det_head.head(out)\n",
    "loss = model.det_head(inputs1,out,targets1)\n",
    "print(loss)"
   ]
  },
  {
   "cell_type": "code",
   "execution_count": 24,
   "metadata": {},
   "outputs": [],
   "source": [
    "mm_model.train()\n",
    "mm_out=mm_model.backbone(inputs2['data'])\n",
    "mm_out=mm_model.neck(mm_out)"
   ]
  },
  {
   "cell_type": "code",
   "execution_count": 25,
   "metadata": {},
   "outputs": [],
   "source": [
    "for i, (myo, mmo) in enumerate(zip(out, mm_out)):\n",
    "    if not (myo.cpu()==mmo.cpu()).all():\n",
    "        print(i)"
   ]
  },
  {
   "cell_type": "code",
   "execution_count": 26,
   "metadata": {},
   "outputs": [],
   "source": [
    "#mm_head_out=mm_model.bbox_head(mm_out)\n",
    "from mmdet.core import (anchor_inside_flags, build_assigner, build_bbox_coder,\n",
    "                        build_prior_generator, build_sampler, images_to_levels,\n",
    "                        multi_apply, unmap)\n",
    "mm_head_out = multi_apply(mm_model.bbox_head.forward_single, mm_out)"
   ]
  },
  {
   "cell_type": "code",
   "execution_count": 27,
   "metadata": {},
   "outputs": [],
   "source": [
    "for i,k in enumerate([2,3,'c5','p6','p7']):\n",
    "    for j in range(2):\n",
    "        if not (out_head[i][j].cpu()==mm_head_out[j][i].cpu()).all():\n",
    "            print(k,i)"
   ]
  },
  {
   "cell_type": "code",
   "execution_count": 19,
   "metadata": {},
   "outputs": [
    {
     "name": "stdout",
     "output_type": "stream",
     "text": [
      "{'loss_cls': tensor(1.6122, grad_fn=<AddBackward0>), 'loss_bbox': tensor(0.6437, grad_fn=<AddBackward0>)}\n"
     ]
    }
   ],
   "source": [
    "mm_model.train()\n",
    "img_meta = [{'img_shape':imsize,'scale_factor':imscale,'flip':False} for imsize,imscale in zip(inputs2['image_sizes'],inputs2['image_sizes'])]\n",
    "for meta in img_meta:\n",
    "    meta['pad_shape'] = (inputs2['data'].shape[2],inputs2['data'].shape[3],inputs2['data'].shape[1])\n",
    "gt_boxes = [t['boxes'] for t in targets2]\n",
    "gt_labels = [t['labels']-1 for t in targets2]\n",
    "#the losses of five layers\n",
    "mm_loss=mm_model(inputs2['data'],img_meta,gt_bboxes=gt_boxes,gt_labels=gt_labels)\n",
    "losses_sum={}\n",
    "for k,v in mm_loss.items():\n",
    "    losses_sum[k]=sum(v)\n",
    "print(losses_sum)"
   ]
  },
  {
   "cell_type": "code",
   "execution_count": 20,
   "metadata": {},
   "outputs": [
    {
     "name": "stdout",
     "output_type": "stream",
     "text": [
      "1.1688817739486694\n"
     ]
    }
   ],
   "source": [
    "print(float(losses_sum['loss_cls']))"
   ]
  },
  {
   "cell_type": "code",
   "execution_count": 30,
   "metadata": {},
   "outputs": [],
   "source": [
    "featmap_sizes = [featmap.size()[-2:] for featmap in mm_out]\n",
    "device = mm_out[0].device\n",
    "\n",
    "mm_anchor,mm_valid = mm_model.bbox_head.get_anchors(featmap_sizes,img_meta,device=device)\n",
    "label_channels = mm_model.bbox_head.cls_out_channels if mm_model.bbox_head.use_sigmoid_cls else 1\n",
    "cls_reg_targets = mm_model.bbox_head.get_targets(\n",
    "    mm_anchor,\n",
    "    mm_valid,\n",
    "    gt_boxes,\n",
    "    img_meta,\n",
    "    gt_bboxes_ignore_list=None,\n",
    "    gt_labels_list=gt_labels,\n",
    "    label_channels=label_channels,\n",
    "    return_sampling_results=True)\n",
    "(labels_list, label_weights_list, bbox_targets_list, bbox_weights_list,\n",
    "         num_total_pos, num_total_neg, sample_result) = cls_reg_targets"
   ]
  },
  {
   "cell_type": "code",
   "execution_count": 31,
   "metadata": {},
   "outputs": [],
   "source": [
    "bbox_targets_list_all = torch.cat(bbox_targets_list, dim=1)"
   ]
  },
  {
   "cell_type": "code",
   "execution_count": 32,
   "metadata": {},
   "outputs": [
    {
     "data": {
      "text/plain": [
       "torch.Size([2, 182403, 4])"
      ]
     },
     "execution_count": 32,
     "metadata": {},
     "output_type": "execute_result"
    }
   ],
   "source": [
    "bbox_targets_list_all.shape"
   ]
  },
  {
   "cell_type": "code",
   "execution_count": 33,
   "metadata": {},
   "outputs": [],
   "source": [
    "bbox_weights_list_all = torch.cat(bbox_weights_list, dim=1)"
   ]
  },
  {
   "cell_type": "code",
   "execution_count": 34,
   "metadata": {},
   "outputs": [],
   "source": [
    "mm_pos_ind=bbox_weights_list_all[:,:,0].squeeze()>0"
   ]
  },
  {
   "cell_type": "code",
   "execution_count": 35,
   "metadata": {},
   "outputs": [],
   "source": [
    "mm_bbox_target = bbox_targets_list_all.squeeze()[mm_pos_ind]"
   ]
  },
  {
   "cell_type": "code",
   "execution_count": 36,
   "metadata": {},
   "outputs": [
    {
     "data": {
      "text/plain": [
       "torch.Size([593, 4])"
      ]
     },
     "execution_count": 36,
     "metadata": {},
     "output_type": "execute_result"
    }
   ],
   "source": [
    "mm_bbox_target.shape"
   ]
  },
  {
   "cell_type": "code",
   "execution_count": 28,
   "metadata": {},
   "outputs": [],
   "source": [
    "anchors = model.det_head.anchor_generater(inputs1, out)\n",
    "model.det_head.box_matcher.allow_low_quality_match=True\n",
    "matches = model.det_head.assign_targets_to_anchors(anchors, targets1)"
   ]
  },
  {
   "cell_type": "code",
   "execution_count": 37,
   "metadata": {},
   "outputs": [],
   "source": [
    "from torchvision.ops.boxes import box_iou\n",
    "mm_anchor_all = [torch.cat(a) for a in mm_anchor][0]\n",
    "iou = box_iou(gt_boxes[0], mm_anchor_all)"
   ]
  },
  {
   "cell_type": "code",
   "execution_count": 38,
   "metadata": {},
   "outputs": [],
   "source": [
    "overlaps=iou\n",
    "neg_iou_thr=0.4\n",
    "pos_iou_thr=0.5\n",
    "min_pos_iou = 0\n",
    "match_low_quality = True\n",
    "gt_max_assign_all = True\n",
    "temp = []\n",
    "templ = []\n",
    "num_gts, num_bboxes = overlaps.size(0), overlaps.size(1)\n",
    "\n",
    "# 1. assign -1 by default\n",
    "assigned_gt_inds = overlaps.new_full((num_bboxes, ),\n",
    "                                        -1,\n",
    "                                        dtype=torch.long)\n",
    "\n",
    "# for each anchor, which gt best overlaps with it\n",
    "# for each anchor, the max iou of all gts\n",
    "max_overlaps, argmax_overlaps = overlaps.max(dim=0)\n",
    "# for each gt, which anchor best overlaps with it\n",
    "# for each gt, the max iou of all proposals\n",
    "gt_max_overlaps, gt_argmax_overlaps = overlaps.max(dim=1)\n",
    "\n",
    "# 2. assign negative: below\n",
    "# the negative inds are set to be 0\n",
    "if isinstance(neg_iou_thr, float):\n",
    "    assigned_gt_inds[(max_overlaps >= 0)\n",
    "                        & (max_overlaps < neg_iou_thr)] = 0\n",
    "\n",
    "\n",
    "# 3. assign positive: above positive IoU threshold\n",
    "pos_inds = max_overlaps >= pos_iou_thr\n",
    "assigned_gt_inds[pos_inds] = argmax_overlaps[pos_inds] + 1\n",
    "\n",
    "if match_low_quality:\n",
    "    # Low-quality matching will overwrite the assigned_gt_inds assigned\n",
    "    # in Step 3. Thus, the assigned gt might not be the best one for\n",
    "    # prediction.\n",
    "    # For example, if bbox A has 0.9 and 0.8 iou with GT bbox 1 & 2,\n",
    "    # bbox 1 will be assigned as the best target for bbox A in step 3.\n",
    "    # However, if GT bbox 2's gt_argmax_overlaps = A, bbox A's\n",
    "    # assigned_gt_inds will be overwritten to be bbox B.\n",
    "    # This might be the reason that it is not used in ROI Heads.\n",
    "    for i in range(num_gts):\n",
    "        if gt_max_overlaps[i] >= min_pos_iou:\n",
    "            if gt_max_assign_all:\n",
    "                max_iou_inds = overlaps[i, :] == gt_max_overlaps[i]\n",
    "                temp.append(max_iou_inds.nonzero())\n",
    "                templ.extend(len(max_iou_inds.nonzero())*[i])\n",
    "                assigned_gt_inds[max_iou_inds] = i + 1\n",
    "            else:\n",
    "                assigned_gt_inds[gt_argmax_overlaps[i]] = i + 1\n",
    "temp = torch.cat(temp).cpu()\n",
    "\n",
    "#if gt_labels is not None:\n",
    "#    assigned_labels = assigned_gt_inds.new_full((num_bboxes, ), -1)\n",
    "#    pos_inds = torch.nonzero(\n",
    "#        assigned_gt_inds > 0, as_tuple=False).squeeze()\n",
    "#    if pos_inds.numel() > 0:\n",
    "#        assigned_labels[pos_inds] = gt_labels[\n",
    "#            assigned_gt_inds[pos_inds] - 1]\n",
    "#else:\n",
    "#    assigned_labels = None\n",
    "\n"
   ]
  },
  {
   "cell_type": "code",
   "execution_count": 39,
   "metadata": {},
   "outputs": [
    {
     "data": {
      "text/plain": [
       "tensor([175260,  95331,  96699,  98067,  95349,  96717,  95385,  96753,  93900,\n",
       "         95268,  94341,  95709,  95499,  96867, 122367, 143738, 152141])"
      ]
     },
     "execution_count": 39,
     "metadata": {},
     "output_type": "execute_result"
    }
   ],
   "source": [
    "temp.view(-1)"
   ]
  },
  {
   "cell_type": "code",
   "execution_count": 53,
   "metadata": {},
   "outputs": [],
   "source": [
    "t1=[31710,  31719,  33972,  35196,  43689,  43698,  44913,  44922,  46110,\n",
    "         46119,  46218,  46227,  46236,  46236,  46245,  46254,  47334,  47343,\n",
    "         47442,  47451,  47460,  47460,  47469,  47478,  55863,  55982,  56027,\n",
    "         56036,  56045, 136287, 137109, 137152, 156943, 157345, 161633]"
   ]
  },
  {
   "cell_type": "code",
   "execution_count": 59,
   "metadata": {},
   "outputs": [],
   "source": [
    "l1 = [ 6,  6,  5,  5, 11, 11, 11, 11, 13, 13, 12, 12,  7, 12,  7,  7, 13, 13,\n",
    "        12, 12,  7, 12,  7,  7,  9,  2, 10, 10, 10, 14,  0,  1,  4,  8,  3]"
   ]
  },
  {
   "cell_type": "code",
   "execution_count": 92,
   "metadata": {},
   "outputs": [],
   "source": [
    "my_pair = {t:l for t,l in zip(t1, l1)}"
   ]
  },
  {
   "cell_type": "code",
   "execution_count": 105,
   "metadata": {},
   "outputs": [
    {
     "data": {
      "text/plain": [
       "35"
      ]
     },
     "execution_count": 105,
     "metadata": {},
     "output_type": "execute_result"
    }
   ],
   "source": [
    "len(t1)"
   ]
  },
  {
   "cell_type": "code",
   "execution_count": 106,
   "metadata": {},
   "outputs": [
    {
     "data": {
      "text/plain": [
       "33"
      ]
     },
     "execution_count": 106,
     "metadata": {},
     "output_type": "execute_result"
    }
   ],
   "source": [
    "len(set(t1))"
   ]
  },
  {
   "cell_type": "code",
   "execution_count": 98,
   "metadata": {},
   "outputs": [
    {
     "data": {
      "text/plain": [
       "True"
      ]
     },
     "execution_count": 98,
     "metadata": {},
     "output_type": "execute_result"
    }
   ],
   "source": [
    "len(temp)==len(templ)==len(t1)"
   ]
  },
  {
   "cell_type": "code",
   "execution_count": 93,
   "metadata": {},
   "outputs": [],
   "source": [
    "mm_pair = {t:l for t,l in zip(temp.view(-1).numpy(),templ)}"
   ]
  },
  {
   "cell_type": "code",
   "execution_count": 95,
   "metadata": {},
   "outputs": [],
   "source": [
    "for k in mm_pair:\n",
    "    if my_pair[k]!=mm_pair[k]:\n",
    "        print(k, my_pair[k],mm_pair[k])"
   ]
  },
  {
   "cell_type": "code",
   "execution_count": 91,
   "metadata": {},
   "outputs": [
    {
     "data": {
      "text/plain": [
       "array([ True,  True,  True,  True,  True,  True,  True,  True,  True,\n",
       "        True,  True,  True, False, False,  True,  True,  True,  True,\n",
       "        True,  True,  True,  True,  True,  True,  True,  True,  True,\n",
       "        True,  True,  True,  True,  True,  True,  True,  True])"
      ]
     },
     "execution_count": 91,
     "metadata": {},
     "output_type": "execute_result"
    }
   ],
   "source": [
    "np.array(l1)[np.argsort(t1)]==np.array(templ)[np.argsort(temp.view(-1))]"
   ]
  },
  {
   "cell_type": "code",
   "execution_count": 71,
   "metadata": {},
   "outputs": [
    {
     "data": {
      "text/plain": [
       "array([ True,  True,  True,  True,  True,  True,  True,  True,  True,\n",
       "        True,  True,  True,  True,  True,  True,  True,  True,  True,\n",
       "        True,  True,  True,  True,  True,  True,  True,  True,  True,\n",
       "        True,  True,  True,  True,  True,  True,  True,  True])"
      ]
     },
     "execution_count": 71,
     "metadata": {},
     "output_type": "execute_result"
    }
   ],
   "source": [
    "np.array(templ)==np.array(l1)[np.argsort(l1)]"
   ]
  },
  {
   "cell_type": "code",
   "execution_count": 68,
   "metadata": {},
   "outputs": [
    {
     "data": {
      "text/plain": [
       "array([ 0,  1,  2,  3,  4,  5,  5,  6,  6,  7,  7,  7,  7,  7,  7,  8,  9,\n",
       "       10, 10, 10, 11, 11, 11, 11, 12, 12, 12, 12, 12, 12, 13, 13, 13, 13,\n",
       "       14])"
      ]
     },
     "execution_count": 68,
     "metadata": {},
     "output_type": "execute_result"
    }
   ],
   "source": [
    "import numpy as np\n",
    "np.array(l1)[np.argsort(l1)]"
   ]
  },
  {
   "cell_type": "code",
   "execution_count": 55,
   "metadata": {},
   "outputs": [],
   "source": [
    "s1=set(t1)"
   ]
  },
  {
   "cell_type": "code",
   "execution_count": 56,
   "metadata": {},
   "outputs": [],
   "source": [
    "s2 = set(temp.reshape(-1).tolist())"
   ]
  },
  {
   "cell_type": "code",
   "execution_count": 57,
   "metadata": {},
   "outputs": [
    {
     "data": {
      "text/plain": [
       "True"
      ]
     },
     "execution_count": 57,
     "metadata": {},
     "output_type": "execute_result"
    }
   ],
   "source": [
    "s1==s2"
   ]
  },
  {
   "cell_type": "code",
   "execution_count": 46,
   "metadata": {},
   "outputs": [
    {
     "data": {
      "text/plain": [
       "tensor([0.8808, 0.7540, 0.7215, 0.7194, 0.7310, 0.3821, 0.6181, 0.1681, 0.7262,\n",
       "        0.8805, 0.7052, 0.2713, 0.2255, 0.3030, 0.7178], device='cuda:1')"
      ]
     },
     "execution_count": 46,
     "metadata": {},
     "output_type": "execute_result"
    }
   ],
   "source": [
    "gt_max_overlaps"
   ]
  },
  {
   "cell_type": "code",
   "execution_count": 34,
   "metadata": {},
   "outputs": [
    {
     "data": {
      "text/plain": [
       "tensor(15, device='cuda:1')"
      ]
     },
     "execution_count": 34,
     "metadata": {},
     "output_type": "execute_result"
    }
   ],
   "source": [
    "assigned_gt_inds.max()"
   ]
  },
  {
   "cell_type": "code",
   "execution_count": 74,
   "metadata": {},
   "outputs": [],
   "source": [
    "matched_ind=matches[0].matched_ind"
   ]
  },
  {
   "cell_type": "code",
   "execution_count": 76,
   "metadata": {},
   "outputs": [
    {
     "data": {
      "text/plain": [
       "tensor([[46236],\n",
       "        [47460]])"
      ]
     },
     "execution_count": 76,
     "metadata": {},
     "output_type": "execute_result"
    }
   ],
   "source": [
    "((matched_ind+1).cpu() != assigned_gt_inds.cpu()).nonzero()"
   ]
  },
  {
   "cell_type": "code",
   "execution_count": 104,
   "metadata": {},
   "outputs": [
    {
     "data": {
      "text/plain": [
       "tensor(13, device='cuda:1')"
      ]
     },
     "execution_count": 104,
     "metadata": {},
     "output_type": "execute_result"
    }
   ],
   "source": [
    "assigned_gt_inds[47460]"
   ]
  },
  {
   "cell_type": "code",
   "execution_count": 102,
   "metadata": {},
   "outputs": [
    {
     "data": {
      "text/plain": [
       "tensor(7, device='cuda:0')"
      ]
     },
     "execution_count": 102,
     "metadata": {},
     "output_type": "execute_result"
    }
   ],
   "source": [
    "matched_ind[47460]"
   ]
  },
  {
   "cell_type": "code",
   "execution_count": 80,
   "metadata": {},
   "outputs": [],
   "source": [
    "pos_ind = matched_ind >= 0\n",
    "pos_anchor = anchors[0][pos_ind]\n",
    "pos_boxes = targets1[0]['boxes'][matched_ind[pos_ind]]\n",
    "bbox_target = model.det_head.box_coder.encode_once(pos_anchor, pos_boxes)"
   ]
  },
  {
   "cell_type": "code",
   "execution_count": 94,
   "metadata": {},
   "outputs": [
    {
     "data": {
      "text/plain": [
       "tensor([[ 976.7059,  182.2000,  998.2090,  218.3500],\n",
       "        [ 976.7059,  182.2000,  998.2090,  218.3500],\n",
       "        [ 976.7059,  182.2000,  998.2090,  218.3500],\n",
       "        [ 976.7059,  182.2000,  998.2090,  218.3500],\n",
       "        [ 976.7059,  182.2000,  998.2090,  218.3500],\n",
       "        [ 976.7059,  182.2000,  998.2090,  218.3500],\n",
       "        [ 809.8602,  206.2833,  824.9174,  232.2667],\n",
       "        [ 809.8602,  206.2833,  824.9174,  232.2667],\n",
       "        [ 748.2321,  272.2167,  760.2245,  295.3833],\n",
       "        [ 748.2321,  272.2167,  760.2245,  295.3833],\n",
       "        [ 748.2321,  272.2167,  760.2245,  295.3833],\n",
       "        [ 748.2321,  272.2167,  760.2245,  295.3833],\n",
       "        [ 720.1330,  291.6667,  738.6381,  308.4333],\n",
       "        [ 720.1330,  291.6667,  738.6381,  308.4333],\n",
       "        [ 824.7675,  288.4333,  839.2918,  304.3333],\n",
       "        [ 824.7675,  288.4333,  839.2918,  304.3333],\n",
       "        [ 844.5051,  288.9833,  854.9986,  305.3833],\n",
       "        [ 844.5051,  288.9833,  854.9986,  305.3833],\n",
       "        [ 844.5051,  288.9833,  854.9986,  305.3833],\n",
       "        [ 720.1330,  291.6667,  738.6381,  308.4333],\n",
       "        [ 720.1330,  291.6667,  738.6381,  308.4333],\n",
       "        [ 824.7675,  288.4333,  839.2918,  304.3333],\n",
       "        [ 824.7675,  288.4333,  839.2918,  304.3333],\n",
       "        [ 844.5051,  288.9833,  854.9986,  305.3833],\n",
       "        [ 844.5051,  288.9833,  854.9986,  305.3833],\n",
       "        [ 844.5051,  288.9833,  854.9986,  305.3833],\n",
       "        [ 675.7441,  348.5667,  716.0688,  371.1500],\n",
       "        [ 715.0195,  337.6833,  800.5660,  374.5000],\n",
       "        [ 715.0195,  337.6833,  800.5660,  374.5000],\n",
       "        [ 715.0195,  337.6833,  800.5660,  374.5000],\n",
       "        [ 715.0195,  337.6833,  800.5660,  374.5000],\n",
       "        [ 715.0195,  337.6833,  800.5660,  374.5000],\n",
       "        [ 715.0195,  337.6833,  800.5660,  374.5000],\n",
       "        [ 715.0195,  337.6833,  800.5660,  374.5000],\n",
       "        [ 715.0195,  337.6833,  800.5660,  374.5000],\n",
       "        [ 715.0195,  337.6833,  800.5660,  374.5000],\n",
       "        [ 756.2770,  345.8000,  839.3584,  375.0167],\n",
       "        [ 756.2770,  345.8000,  839.3584,  375.0167],\n",
       "        [ 801.2988,  344.1500,  892.1254,  375.2833],\n",
       "        [ 801.2988,  344.1500,  892.1254,  375.2833],\n",
       "        [ 801.2988,  344.1500,  892.1254,  375.2833],\n",
       "        [ 675.7441,  348.5667,  716.0688,  371.1500],\n",
       "        [ 675.7441,  348.5667,  716.0688,  371.1500],\n",
       "        [ 675.7441,  348.5667,  716.0688,  371.1500],\n",
       "        [ 675.7441,  348.5667,  716.0688,  371.1500],\n",
       "        [ 675.7441,  348.5667,  716.0688,  371.1500],\n",
       "        [ 675.7441,  348.5667,  716.0688,  371.1500],\n",
       "        [ 675.7441,  348.5667,  716.0688,  371.1500],\n",
       "        [ 675.7441,  348.5667,  716.0688,  371.1500],\n",
       "        [ 715.0195,  337.6833,  800.5660,  374.5000],\n",
       "        [ 715.0195,  337.6833,  800.5660,  374.5000],\n",
       "        [ 715.0195,  337.6833,  800.5660,  374.5000],\n",
       "        [ 715.0195,  337.6833,  800.5660,  374.5000],\n",
       "        [ 715.0195,  337.6833,  800.5660,  374.5000],\n",
       "        [ 715.0195,  337.6833,  800.5660,  374.5000],\n",
       "        [ 715.0195,  337.6833,  800.5660,  374.5000],\n",
       "        [ 715.0195,  337.6833,  800.5660,  374.5000],\n",
       "        [ 756.2770,  345.8000,  839.3584,  375.0167],\n",
       "        [ 715.0195,  337.6833,  800.5660,  374.5000],\n",
       "        [ 756.2770,  345.8000,  839.3584,  375.0167],\n",
       "        [ 756.2770,  345.8000,  839.3584,  375.0167],\n",
       "        [ 756.2770,  345.8000,  839.3584,  375.0167],\n",
       "        [ 756.2770,  345.8000,  839.3584,  375.0167],\n",
       "        [ 756.2770,  345.8000,  839.3584,  375.0167],\n",
       "        [ 756.2770,  345.8000,  839.3584,  375.0167],\n",
       "        [ 756.2770,  345.8000,  839.3584,  375.0167],\n",
       "        [ 756.2770,  345.8000,  839.3584,  375.0167],\n",
       "        [ 756.2770,  345.8000,  839.3584,  375.0167],\n",
       "        [ 756.2770,  345.8000,  839.3584,  375.0167],\n",
       "        [ 801.2988,  344.1500,  892.1254,  375.2833],\n",
       "        [ 801.2988,  344.1500,  892.1254,  375.2833],\n",
       "        [ 801.2988,  344.1500,  892.1254,  375.2833],\n",
       "        [ 801.2988,  344.1500,  892.1254,  375.2833],\n",
       "        [ 801.2988,  344.1500,  892.1254,  375.2833],\n",
       "        [ 801.2988,  344.1500,  892.1254,  375.2833],\n",
       "        [ 801.2988,  344.1500,  892.1254,  375.2833],\n",
       "        [ 801.2988,  344.1500,  892.1254,  375.2833],\n",
       "        [ 801.2988,  344.1500,  892.1254,  375.2833],\n",
       "        [ 801.2988,  344.1500,  892.1254,  375.2833],\n",
       "        [ 801.2988,  344.1500,  892.1254,  375.2833],\n",
       "        [ 675.7441,  348.5667,  716.0688,  371.1500],\n",
       "        [ 756.2770,  345.8000,  839.3584,  375.0167],\n",
       "        [ 756.2770,  345.8000,  839.3584,  375.0167],\n",
       "        [ 756.2770,  345.8000,  839.3584,  375.0167],\n",
       "        [ 801.2988,  344.1500,  892.1254,  375.2833],\n",
       "        [ 801.2988,  344.1500,  892.1254,  375.2833],\n",
       "        [ 801.2988,  344.1500,  892.1254,  375.2833],\n",
       "        [   0.0000,  348.7667,   64.6762,  420.6667],\n",
       "        [   0.0000,  348.7667,   64.6762,  420.6667],\n",
       "        [   0.0000,  348.7667,   64.6762,  420.6667],\n",
       "        [   0.0000,  348.7667,   64.6762,  420.6667],\n",
       "        [   0.0000,  348.7667,   64.6762,  420.6667],\n",
       "        [   0.0000,  348.7667,   64.6762,  420.6667],\n",
       "        [   0.0000,  348.7667,   64.6762,  420.6667],\n",
       "        [   0.0000,  348.7667,   64.6762,  420.6667],\n",
       "        [   0.0000,  348.7667,   64.6762,  420.6667],\n",
       "        [   0.0000,  348.7667,   64.6762,  420.6667],\n",
       "        [   0.0000,  348.7667,   64.6762,  420.6667],\n",
       "        [   0.0000,  348.7667,   64.6762,  420.6667],\n",
       "        [   0.0000,  348.7667,   64.6762,  420.6667],\n",
       "        [   0.0000,  348.7667,   64.6762,  420.6667],\n",
       "        [ 715.0195,  337.6833,  800.5660,  374.5000],\n",
       "        [ 715.0195,  337.6833,  800.5660,  374.5000],\n",
       "        [ 715.0195,  337.6833,  800.5660,  374.5000],\n",
       "        [ 756.2770,  345.8000,  839.3584,  375.0167],\n",
       "        [ 801.2988,  344.1500,  892.1254,  375.2833],\n",
       "        [ 801.2988,  344.1500,  892.1254,  375.2833],\n",
       "        [   0.0000,  348.7667,   64.6762,  420.6667],\n",
       "        [   0.0000,  348.7667,   64.6762,  420.6667],\n",
       "        [   0.0000,  348.7667,   64.6762,  420.6667],\n",
       "        [   0.0000,  348.7667,   64.6762,  420.6667],\n",
       "        [  64.1099,  345.6500,  173.7247,  411.8833],\n",
       "        [  64.1099,  345.6500,  173.7247,  411.8833],\n",
       "        [  64.1099,  345.6500,  173.7247,  411.8833],\n",
       "        [  64.1099,  345.6500,  173.7247,  411.8833],\n",
       "        [  64.1099,  345.6500,  173.7247,  411.8833],\n",
       "        [  64.1099,  345.6500,  173.7247,  411.8833],\n",
       "        [  64.1099,  345.6500,  173.7247,  411.8833],\n",
       "        [  64.1099,  345.6500,  173.7247,  411.8833],\n",
       "        [  64.1099,  345.6500,  173.7247,  411.8833],\n",
       "        [  64.1099,  345.6500,  173.7247,  411.8833],\n",
       "        [  64.1099,  345.6500,  173.7247,  411.8833],\n",
       "        [  64.1099,  345.6500,  173.7247,  411.8833],\n",
       "        [ 756.2770,  345.8000,  839.3584,  375.0167],\n",
       "        [ 801.2988,  344.1500,  892.1254,  375.2833],\n",
       "        [   0.0000,  348.7667,   64.6762,  420.6667],\n",
       "        [   0.0000,  348.7667,   64.6762,  420.6667],\n",
       "        [   0.0000,  348.7667,   64.6762,  420.6667],\n",
       "        [   0.0000,  348.7667,   64.6762,  420.6667],\n",
       "        [   0.0000,  348.7667,   64.6762,  420.6667],\n",
       "        [   0.0000,  348.7667,   64.6762,  420.6667],\n",
       "        [   0.0000,  348.7667,   64.6762,  420.6667],\n",
       "        [   0.0000,  348.7667,   64.6762,  420.6667],\n",
       "        [   0.0000,  348.7667,   64.6762,  420.6667],\n",
       "        [  64.1099,  345.6500,  173.7247,  411.8833],\n",
       "        [  64.1099,  345.6500,  173.7247,  411.8833],\n",
       "        [  64.1099,  345.6500,  173.7247,  411.8833],\n",
       "        [  64.1099,  345.6500,  173.7247,  411.8833],\n",
       "        [  64.1099,  345.6500,  173.7247,  411.8833],\n",
       "        [  64.1099,  345.6500,  173.7247,  411.8833],\n",
       "        [  64.1099,  345.6500,  173.7247,  411.8833],\n",
       "        [  64.1099,  345.6500,  173.7247,  411.8833],\n",
       "        [  64.1099,  345.6500,  173.7247,  411.8833],\n",
       "        [  64.1099,  345.6500,  173.7247,  411.8833],\n",
       "        [  64.1099,  345.6500,  173.7247,  411.8833],\n",
       "        [  64.1099,  345.6500,  173.7247,  411.8833],\n",
       "        [  64.1099,  345.6500,  173.7247,  411.8833],\n",
       "        [  64.1099,  345.6500,  173.7247,  411.8833],\n",
       "        [  64.1099,  345.6500,  173.7247,  411.8833],\n",
       "        [  64.1099,  345.6500,  173.7247,  411.8833],\n",
       "        [  64.1099,  345.6500,  173.7247,  411.8833],\n",
       "        [  64.1099,  345.6500,  173.7247,  411.8833],\n",
       "        [  64.1099,  345.6500,  173.7247,  411.8833],\n",
       "        [   0.0000,  348.7667,   64.6762,  420.6667],\n",
       "        [   0.0000,  348.7667,   64.6762,  420.6667],\n",
       "        [   0.0000,  348.7667,   64.6762,  420.6667],\n",
       "        [   0.0000,  348.7667,   64.6762,  420.6667],\n",
       "        [  64.1099,  345.6500,  173.7247,  411.8833],\n",
       "        [  64.1099,  345.6500,  173.7247,  411.8833],\n",
       "        [ 846.0209,  317.2000, 1059.7539,  465.5500],\n",
       "        [ 846.0209,  317.2000, 1059.7539,  465.5500],\n",
       "        [ 846.0209,  317.2000, 1059.7539,  465.5500],\n",
       "        [ 846.0209,  317.2000, 1059.7539,  465.5500],\n",
       "        [ 846.0209,  317.2000, 1059.7539,  465.5500],\n",
       "        [ 846.0209,  317.2000, 1059.7539,  465.5500],\n",
       "        [ 846.0209,  317.2000, 1059.7539,  465.5500],\n",
       "        [ 846.0209,  317.2000, 1059.7539,  465.5500],\n",
       "        [ 846.0209,  317.2000, 1059.7539,  465.5500],\n",
       "        [ 846.0209,  317.2000, 1059.7539,  465.5500],\n",
       "        [ 846.0209,  317.2000, 1059.7539,  465.5500],\n",
       "        [ 846.0209,  317.2000, 1059.7539,  465.5500],\n",
       "        [ 846.0209,  317.2000, 1059.7539,  465.5500],\n",
       "        [ 846.0209,  317.2000, 1059.7539,  465.5500],\n",
       "        [ 846.0209,  317.2000, 1059.7539,  465.5500],\n",
       "        [ 846.0209,  317.2000, 1059.7539,  465.5500],\n",
       "        [ 846.0209,  317.2000, 1059.7539,  465.5500],\n",
       "        [ 846.0209,  317.2000, 1059.7539,  465.5500],\n",
       "        [ 846.0209,  317.2000, 1059.7539,  465.5500],\n",
       "        [ 846.0209,  317.2000, 1059.7539,  465.5500],\n",
       "        [ 846.0209,  317.2000, 1059.7539,  465.5500],\n",
       "        [ 846.0209,  317.2000, 1059.7539,  465.5500],\n",
       "        [ 157.0684,  322.7833,  256.5728,  562.3667],\n",
       "        [ 157.0684,  322.7833,  256.5728,  562.3667],\n",
       "        [ 157.0684,  322.7833,  256.5728,  562.3667],\n",
       "        [ 157.0684,  322.7833,  256.5728,  562.3667],\n",
       "        [ 157.0684,  322.7833,  256.5728,  562.3667],\n",
       "        [ 157.0684,  322.7833,  256.5728,  562.3667],\n",
       "        [ 846.0209,  317.2000, 1059.7539,  465.5500],\n",
       "        [ 846.0209,  317.2000, 1059.7539,  465.5500],\n",
       "        [ 846.0209,  317.2000, 1059.7539,  465.5500],\n",
       "        [ 846.0209,  317.2000, 1059.7539,  465.5500],\n",
       "        [ 846.0209,  317.2000, 1059.7539,  465.5500],\n",
       "        [ 846.0209,  317.2000, 1059.7539,  465.5500],\n",
       "        [ 846.0209,  317.2000, 1059.7539,  465.5500],\n",
       "        [ 846.0209,  317.2000, 1059.7539,  465.5500],\n",
       "        [ 846.0209,  317.2000, 1059.7539,  465.5500],\n",
       "        [ 846.0209,  317.2000, 1059.7539,  465.5500],\n",
       "        [ 846.0209,  317.2000, 1059.7539,  465.5500],\n",
       "        [ 846.0209,  317.2000, 1059.7539,  465.5500],\n",
       "        [ 846.0209,  317.2000, 1059.7539,  465.5500],\n",
       "        [ 157.0684,  322.7833,  256.5728,  562.3667],\n",
       "        [ 157.0684,  322.7833,  256.5728,  562.3667],\n",
       "        [ 157.0684,  322.7833,  256.5728,  562.3667],\n",
       "        [ 157.0684,  322.7833,  256.5728,  562.3667],\n",
       "        [ 157.0684,  322.7833,  256.5728,  562.3667],\n",
       "        [ 157.0684,  322.7833,  256.5728,  562.3667],\n",
       "        [ 157.0684,  322.7833,  256.5728,  562.3667],\n",
       "        [ 157.0684,  322.7833,  256.5728,  562.3667],\n",
       "        [ 157.0684,  322.7833,  256.5728,  562.3667],\n",
       "        [ 157.0684,  322.7833,  256.5728,  562.3667],\n",
       "        [ 157.0684,  322.7833,  256.5728,  562.3667],\n",
       "        [ 157.0684,  322.7833,  256.5728,  562.3667],\n",
       "        [ 219.1963,  197.7500,  697.0974,  519.5500],\n",
       "        [ 219.1963,  197.7500,  697.0974,  519.5500],\n",
       "        [ 219.1963,  197.7500,  697.0974,  519.5500],\n",
       "        [ 219.1963,  197.7500,  697.0974,  519.5500],\n",
       "        [ 219.1963,  197.7500,  697.0974,  519.5500],\n",
       "        [ 219.1963,  197.7500,  697.0974,  519.5500],\n",
       "        [ 219.1963,  197.7500,  697.0974,  519.5500],\n",
       "        [ 219.1963,  197.7500,  697.0974,  519.5500],\n",
       "        [ 219.1963,  197.7500,  697.0974,  519.5500],\n",
       "        [ 219.1963,  197.7500,  697.0974,  519.5500],\n",
       "        [ 219.1963,  197.7500,  697.0974,  519.5500],\n",
       "        [ 219.1963,  197.7500,  697.0974,  519.5500],\n",
       "        [ 219.1963,  197.7500,  697.0974,  519.5500],\n",
       "        [ 219.1963,  197.7500,  697.0974,  519.5500],\n",
       "        [ 219.1963,  197.7500,  697.0974,  519.5500],\n",
       "        [ 219.1963,  197.7500,  697.0974,  519.5500],\n",
       "        [ 219.1963,  197.7500,  697.0974,  519.5500],\n",
       "        [ 219.1963,  197.7500,  697.0974,  519.5500],\n",
       "        [ 219.1963,  197.7500,  697.0974,  519.5500],\n",
       "        [ 219.1963,  197.7500,  697.0974,  519.5500],\n",
       "        [ 219.1963,  197.7500,  697.0974,  519.5500],\n",
       "        [ 219.1963,  197.7500,  697.0974,  519.5500],\n",
       "        [ 219.1963,  197.7500,  697.0974,  519.5500],\n",
       "        [ 219.1963,  197.7500,  697.0974,  519.5500],\n",
       "        [ 219.1963,  197.7500,  697.0974,  519.5500],\n",
       "        [ 219.1963,  197.7500,  697.0974,  519.5500],\n",
       "        [ 219.1963,  197.7500,  697.0974,  519.5500],\n",
       "        [ 219.1963,  197.7500,  697.0974,  519.5500],\n",
       "        [ 219.1963,  197.7500,  697.0974,  519.5500],\n",
       "        [ 219.1963,  197.7500,  697.0974,  519.5500],\n",
       "        [ 219.1963,  197.7500,  697.0974,  519.5500],\n",
       "        [ 219.1963,  197.7500,  697.0974,  519.5500]], device='cuda:0')"
      ]
     },
     "execution_count": 94,
     "metadata": {},
     "output_type": "execute_result"
    }
   ],
   "source": [
    "pos_boxes"
   ]
  },
  {
   "cell_type": "code",
   "execution_count": 99,
   "metadata": {},
   "outputs": [
    {
     "data": {
      "text/plain": [
       "tensor([[16],\n",
       "        [23]])"
      ]
     },
     "execution_count": 99,
     "metadata": {},
     "output_type": "execute_result"
    }
   ],
   "source": [
    "(sample_result[0].pos_gt_bboxes.cpu()-pos_boxes.cpu())[:,0].nonzero()"
   ]
  },
  {
   "cell_type": "code",
   "execution_count": 103,
   "metadata": {},
   "outputs": [
    {
     "data": {
      "text/plain": [
       "tensor([], size=(0, 1), dtype=torch.int64)"
      ]
     },
     "execution_count": 103,
     "metadata": {},
     "output_type": "execute_result"
    }
   ],
   "source": [
    "(sample_result[0].pos_bboxes.cpu()-pos_anchor.cpu())[:,0].nonzero()"
   ]
  },
  {
   "cell_type": "code",
   "execution_count": 108,
   "metadata": {},
   "outputs": [
    {
     "data": {
      "text/plain": [
       "tensor([[824., 280., 856., 312.]])"
      ]
     },
     "execution_count": 108,
     "metadata": {},
     "output_type": "execute_result"
    }
   ],
   "source": [
    "anchor_box.unsqueeze(0)"
   ]
  },
  {
   "cell_type": "code",
   "execution_count": 109,
   "metadata": {},
   "outputs": [
    {
     "name": "stdout",
     "output_type": "stream",
     "text": [
      "tensor([[0.2255]])\n",
      "tensor([[0.1681]])\n"
     ]
    }
   ],
   "source": [
    "from torchvision.ops.boxes import box_iou\n",
    "mm_box = sample_result[0].pos_gt_bboxes.cpu()[16].unsqueeze(0)\n",
    "my_box = pos_boxes.cpu()[16].unsqueeze(0)\n",
    "anchor_box = pos_anchor.cpu()[16].unsqueeze(0)\n",
    "print(box_iou(mm_box, anchor_box))\n",
    "print(box_iou(my_box, anchor_box))"
   ]
  },
  {
   "cell_type": "code",
   "execution_count": 100,
   "metadata": {},
   "outputs": [
    {
     "data": {
      "text/plain": [
       "tensor([844.5051, 288.9833, 854.9986, 305.3833], device='cuda:0')"
      ]
     },
     "execution_count": 100,
     "metadata": {},
     "output_type": "execute_result"
    }
   ],
   "source": [
    "pos_boxes[16]"
   ]
  },
  {
   "cell_type": "code",
   "execution_count": 101,
   "metadata": {},
   "outputs": [
    {
     "data": {
      "text/plain": [
       "tensor([824.7675, 288.4333, 839.2918, 304.3333], device='cuda:1')"
      ]
     },
     "execution_count": 101,
     "metadata": {},
     "output_type": "execute_result"
    }
   ],
   "source": [
    "sample_result[0].pos_gt_bboxes[16]"
   ]
  },
  {
   "cell_type": "code",
   "execution_count": 102,
   "metadata": {},
   "outputs": [
    {
     "data": {
      "text/plain": [
       "[{'boxes': tensor([[   0.0000,  348.7667,   64.6762,  420.6667],\n",
       "          [  64.1099,  345.6500,  173.7247,  411.8833],\n",
       "          [ 756.2770,  345.8000,  839.3584,  375.0167],\n",
       "          [ 219.1963,  197.7500,  697.0974,  519.5500],\n",
       "          [ 846.0209,  317.2000, 1059.7539,  465.5500],\n",
       "          [ 809.8602,  206.2833,  824.9174,  232.2667],\n",
       "          [ 976.7059,  182.2000,  998.2090,  218.3500],\n",
       "          [ 844.5051,  288.9833,  854.9986,  305.3833],\n",
       "          [ 157.0684,  322.7833,  256.5728,  562.3667],\n",
       "          [ 675.7441,  348.5667,  716.0688,  371.1500],\n",
       "          [ 801.2988,  344.1500,  892.1254,  375.2833],\n",
       "          [ 748.2321,  272.2167,  760.2245,  295.3833],\n",
       "          [ 824.7675,  288.4333,  839.2918,  304.3333],\n",
       "          [ 720.1330,  291.6667,  738.6381,  308.4333],\n",
       "          [ 715.0195,  337.6833,  800.5660,  374.5000]], device='cuda:0'),\n",
       "  'labels': tensor([ 3,  3,  3,  8,  8, 10, 10, 10,  1,  3,  3, 10, 10, 10,  3],\n",
       "         device='cuda:0'),\n",
       "  'image_id': 393226}]"
      ]
     },
     "execution_count": 102,
     "metadata": {},
     "output_type": "execute_result"
    }
   ],
   "source": [
    "targets1"
   ]
  },
  {
   "cell_type": "code",
   "execution_count": 86,
   "metadata": {},
   "outputs": [
    {
     "data": {
      "text/plain": [
       "tensor(True)"
      ]
     },
     "execution_count": 86,
     "metadata": {},
     "output_type": "execute_result"
    }
   ],
   "source": [
    "(mm_pos_ind.cpu() == pos_ind.cpu()).all()"
   ]
  },
  {
   "cell_type": "code",
   "execution_count": 83,
   "metadata": {},
   "outputs": [
    {
     "data": {
      "text/plain": [
       "tensor([[ 0.0000e+00,  0.0000e+00,  0.0000e+00,  0.0000e+00],\n",
       "        [ 0.0000e+00,  0.0000e+00,  0.0000e+00,  0.0000e+00],\n",
       "        [ 0.0000e+00,  0.0000e+00,  0.0000e+00,  0.0000e+00],\n",
       "        [ 0.0000e+00,  0.0000e+00,  0.0000e+00,  0.0000e+00],\n",
       "        [ 0.0000e+00,  0.0000e+00,  0.0000e+00,  0.0000e+00],\n",
       "        [ 0.0000e+00,  0.0000e+00,  0.0000e+00,  0.0000e+00],\n",
       "        [ 0.0000e+00,  0.0000e+00,  0.0000e+00,  0.0000e+00],\n",
       "        [ 0.0000e+00,  0.0000e+00,  0.0000e+00,  0.0000e+00],\n",
       "        [ 0.0000e+00,  0.0000e+00,  0.0000e+00,  0.0000e+00],\n",
       "        [ 0.0000e+00,  0.0000e+00,  0.0000e+00,  0.0000e+00],\n",
       "        [ 0.0000e+00,  0.0000e+00,  0.0000e+00,  0.0000e+00],\n",
       "        [ 0.0000e+00,  0.0000e+00,  0.0000e+00,  0.0000e+00],\n",
       "        [ 0.0000e+00,  0.0000e+00,  0.0000e+00,  0.0000e+00],\n",
       "        [ 0.0000e+00,  0.0000e+00,  0.0000e+00,  0.0000e+00],\n",
       "        [ 0.0000e+00,  0.0000e+00,  0.0000e+00,  0.0000e+00],\n",
       "        [ 0.0000e+00,  0.0000e+00,  0.0000e+00,  0.0000e+00],\n",
       "        [ 5.5382e-01,  2.5001e-02, -3.2507e-01,  3.0960e-02],\n",
       "        [ 0.0000e+00,  0.0000e+00,  0.0000e+00,  0.0000e+00],\n",
       "        [ 0.0000e+00,  0.0000e+00,  0.0000e+00,  0.0000e+00],\n",
       "        [ 0.0000e+00,  0.0000e+00,  0.0000e+00,  0.0000e+00],\n",
       "        [ 0.0000e+00,  0.0000e+00,  0.0000e+00,  0.0000e+00],\n",
       "        [ 0.0000e+00,  0.0000e+00,  0.0000e+00,  0.0000e+00],\n",
       "        [ 0.0000e+00,  0.0000e+00,  0.0000e+00,  0.0000e+00],\n",
       "        [ 5.5382e-01,  2.5001e-02, -3.2507e-01,  3.0960e-02],\n",
       "        [ 0.0000e+00,  0.0000e+00,  0.0000e+00,  0.0000e+00],\n",
       "        [ 0.0000e+00,  0.0000e+00,  0.0000e+00,  0.0000e+00],\n",
       "        [ 0.0000e+00,  0.0000e+00,  0.0000e+00,  0.0000e+00],\n",
       "        [ 0.0000e+00,  0.0000e+00,  0.0000e+00,  0.0000e+00],\n",
       "        [ 0.0000e+00,  0.0000e+00,  0.0000e+00,  0.0000e+00],\n",
       "        [ 0.0000e+00,  0.0000e+00,  0.0000e+00,  0.0000e+00],\n",
       "        [ 0.0000e+00,  0.0000e+00,  0.0000e+00,  0.0000e+00],\n",
       "        [ 0.0000e+00,  0.0000e+00,  0.0000e+00,  0.0000e+00],\n",
       "        [ 0.0000e+00,  0.0000e+00,  0.0000e+00,  0.0000e+00],\n",
       "        [ 0.0000e+00,  0.0000e+00,  0.0000e+00,  0.0000e+00],\n",
       "        [ 0.0000e+00,  0.0000e+00,  0.0000e+00,  0.0000e+00],\n",
       "        [ 0.0000e+00,  0.0000e+00,  0.0000e+00,  0.0000e+00],\n",
       "        [ 0.0000e+00,  0.0000e+00,  0.0000e+00,  0.0000e+00],\n",
       "        [ 0.0000e+00,  0.0000e+00,  0.0000e+00,  0.0000e+00],\n",
       "        [ 0.0000e+00,  0.0000e+00,  0.0000e+00,  0.0000e+00],\n",
       "        [ 0.0000e+00,  0.0000e+00,  0.0000e+00,  0.0000e+00],\n",
       "        [ 0.0000e+00,  0.0000e+00,  0.0000e+00,  0.0000e+00],\n",
       "        [ 0.0000e+00,  0.0000e+00,  0.0000e+00,  0.0000e+00],\n",
       "        [ 0.0000e+00,  0.0000e+00,  0.0000e+00,  0.0000e+00],\n",
       "        [ 0.0000e+00,  0.0000e+00,  0.0000e+00,  0.0000e+00],\n",
       "        [ 0.0000e+00,  0.0000e+00,  0.0000e+00,  0.0000e+00],\n",
       "        [ 0.0000e+00,  0.0000e+00,  0.0000e+00,  0.0000e+00],\n",
       "        [ 0.0000e+00,  0.0000e+00,  0.0000e+00,  0.0000e+00],\n",
       "        [ 0.0000e+00,  0.0000e+00,  0.0000e+00,  0.0000e+00],\n",
       "        [ 0.0000e+00,  0.0000e+00,  0.0000e+00,  0.0000e+00],\n",
       "        [ 0.0000e+00,  0.0000e+00,  0.0000e+00,  0.0000e+00],\n",
       "        [ 0.0000e+00,  0.0000e+00,  0.0000e+00,  0.0000e+00],\n",
       "        [ 0.0000e+00,  0.0000e+00,  0.0000e+00,  0.0000e+00],\n",
       "        [ 0.0000e+00,  0.0000e+00,  0.0000e+00,  0.0000e+00],\n",
       "        [ 0.0000e+00,  0.0000e+00,  0.0000e+00,  0.0000e+00],\n",
       "        [ 0.0000e+00,  0.0000e+00,  0.0000e+00,  0.0000e+00],\n",
       "        [ 0.0000e+00,  0.0000e+00,  0.0000e+00,  0.0000e+00],\n",
       "        [ 0.0000e+00,  0.0000e+00,  0.0000e+00,  0.0000e+00],\n",
       "        [ 0.0000e+00,  0.0000e+00,  0.0000e+00,  0.0000e+00],\n",
       "        [ 0.0000e+00,  0.0000e+00,  0.0000e+00,  0.0000e+00],\n",
       "        [ 0.0000e+00,  0.0000e+00,  0.0000e+00,  0.0000e+00],\n",
       "        [ 0.0000e+00,  0.0000e+00,  0.0000e+00,  0.0000e+00],\n",
       "        [ 0.0000e+00,  0.0000e+00,  0.0000e+00,  0.0000e+00],\n",
       "        [ 0.0000e+00,  0.0000e+00,  0.0000e+00,  0.0000e+00],\n",
       "        [ 0.0000e+00,  0.0000e+00,  0.0000e+00,  0.0000e+00],\n",
       "        [ 0.0000e+00,  0.0000e+00,  0.0000e+00,  0.0000e+00],\n",
       "        [ 0.0000e+00,  0.0000e+00,  0.0000e+00,  0.0000e+00],\n",
       "        [ 0.0000e+00,  0.0000e+00,  0.0000e+00,  0.0000e+00],\n",
       "        [ 0.0000e+00,  0.0000e+00,  0.0000e+00,  0.0000e+00],\n",
       "        [ 0.0000e+00,  0.0000e+00,  0.0000e+00,  0.0000e+00],\n",
       "        [ 0.0000e+00,  0.0000e+00,  0.0000e+00,  0.0000e+00],\n",
       "        [ 0.0000e+00,  0.0000e+00,  0.0000e+00,  0.0000e+00],\n",
       "        [ 0.0000e+00,  0.0000e+00,  0.0000e+00,  0.0000e+00],\n",
       "        [ 0.0000e+00,  0.0000e+00,  0.0000e+00,  0.0000e+00],\n",
       "        [ 0.0000e+00,  0.0000e+00,  0.0000e+00,  0.0000e+00],\n",
       "        [ 0.0000e+00,  0.0000e+00,  0.0000e+00,  0.0000e+00],\n",
       "        [ 0.0000e+00,  0.0000e+00,  0.0000e+00,  0.0000e+00],\n",
       "        [ 0.0000e+00,  0.0000e+00,  0.0000e+00,  0.0000e+00],\n",
       "        [ 0.0000e+00,  0.0000e+00,  0.0000e+00,  0.0000e+00],\n",
       "        [ 0.0000e+00,  0.0000e+00,  0.0000e+00,  0.0000e+00],\n",
       "        [ 0.0000e+00,  0.0000e+00,  0.0000e+00,  0.0000e+00],\n",
       "        [ 0.0000e+00,  0.0000e+00,  0.0000e+00,  0.0000e+00],\n",
       "        [ 0.0000e+00,  0.0000e+00,  0.0000e+00,  0.0000e+00],\n",
       "        [ 0.0000e+00,  0.0000e+00,  0.0000e+00,  0.0000e+00],\n",
       "        [ 0.0000e+00,  0.0000e+00,  0.0000e+00,  0.0000e+00],\n",
       "        [ 0.0000e+00,  0.0000e+00,  0.0000e+00,  0.0000e+00],\n",
       "        [ 0.0000e+00,  0.0000e+00,  0.0000e+00,  0.0000e+00],\n",
       "        [ 0.0000e+00,  0.0000e+00,  0.0000e+00,  0.0000e+00],\n",
       "        [ 4.4703e-08,  0.0000e+00,  0.0000e+00,  0.0000e+00],\n",
       "        [ 3.7719e-08,  0.0000e+00,  0.0000e+00,  0.0000e+00],\n",
       "        [ 0.0000e+00,  0.0000e+00,  0.0000e+00,  0.0000e+00],\n",
       "        [ 0.0000e+00,  0.0000e+00,  0.0000e+00,  0.0000e+00],\n",
       "        [ 4.4703e-08,  0.0000e+00,  0.0000e+00,  0.0000e+00],\n",
       "        [ 0.0000e+00,  0.0000e+00,  0.0000e+00,  0.0000e+00],\n",
       "        [ 3.7719e-08,  0.0000e+00,  0.0000e+00,  0.0000e+00],\n",
       "        [ 0.0000e+00,  0.0000e+00,  0.0000e+00,  0.0000e+00],\n",
       "        [ 0.0000e+00,  0.0000e+00,  0.0000e+00,  0.0000e+00],\n",
       "        [ 0.0000e+00,  0.0000e+00,  0.0000e+00,  0.0000e+00],\n",
       "        [ 0.0000e+00,  0.0000e+00,  0.0000e+00,  0.0000e+00],\n",
       "        [ 4.4703e-08,  0.0000e+00,  0.0000e+00,  0.0000e+00],\n",
       "        [ 3.7719e-08,  0.0000e+00,  0.0000e+00,  0.0000e+00],\n",
       "        [ 0.0000e+00,  0.0000e+00,  0.0000e+00,  0.0000e+00],\n",
       "        [ 0.0000e+00,  0.0000e+00,  0.0000e+00,  0.0000e+00],\n",
       "        [ 0.0000e+00,  0.0000e+00,  0.0000e+00,  0.0000e+00],\n",
       "        [ 0.0000e+00,  0.0000e+00,  0.0000e+00,  0.0000e+00],\n",
       "        [ 0.0000e+00,  0.0000e+00,  0.0000e+00,  0.0000e+00],\n",
       "        [ 0.0000e+00,  0.0000e+00,  0.0000e+00,  0.0000e+00],\n",
       "        [ 0.0000e+00,  0.0000e+00,  0.0000e+00,  0.0000e+00],\n",
       "        [ 0.0000e+00,  0.0000e+00,  0.0000e+00,  0.0000e+00],\n",
       "        [ 0.0000e+00,  0.0000e+00,  0.0000e+00,  0.0000e+00],\n",
       "        [ 0.0000e+00,  0.0000e+00,  0.0000e+00,  0.0000e+00],\n",
       "        [ 0.0000e+00,  0.0000e+00,  0.0000e+00,  0.0000e+00],\n",
       "        [ 0.0000e+00,  0.0000e+00,  0.0000e+00,  0.0000e+00],\n",
       "        [ 0.0000e+00,  0.0000e+00,  0.0000e+00,  0.0000e+00],\n",
       "        [ 0.0000e+00,  0.0000e+00,  0.0000e+00,  0.0000e+00],\n",
       "        [ 0.0000e+00,  0.0000e+00,  0.0000e+00,  0.0000e+00],\n",
       "        [ 0.0000e+00,  0.0000e+00,  0.0000e+00,  0.0000e+00],\n",
       "        [ 0.0000e+00,  0.0000e+00,  0.0000e+00,  0.0000e+00],\n",
       "        [ 0.0000e+00,  0.0000e+00,  0.0000e+00,  0.0000e+00],\n",
       "        [ 0.0000e+00,  0.0000e+00,  0.0000e+00,  0.0000e+00],\n",
       "        [ 0.0000e+00,  0.0000e+00,  0.0000e+00,  0.0000e+00],\n",
       "        [ 0.0000e+00,  0.0000e+00,  0.0000e+00,  0.0000e+00],\n",
       "        [ 0.0000e+00,  0.0000e+00,  0.0000e+00,  0.0000e+00],\n",
       "        [ 0.0000e+00,  0.0000e+00,  0.0000e+00,  0.0000e+00],\n",
       "        [ 0.0000e+00,  0.0000e+00,  0.0000e+00,  0.0000e+00],\n",
       "        [ 0.0000e+00,  0.0000e+00,  0.0000e+00,  0.0000e+00],\n",
       "        [ 0.0000e+00,  0.0000e+00,  0.0000e+00,  0.0000e+00],\n",
       "        [ 0.0000e+00,  0.0000e+00,  0.0000e+00,  0.0000e+00],\n",
       "        [-4.2142e-08,  0.0000e+00,  0.0000e+00,  0.0000e+00],\n",
       "        [ 0.0000e+00,  0.0000e+00,  0.0000e+00,  0.0000e+00],\n",
       "        [ 0.0000e+00,  0.0000e+00,  0.0000e+00,  0.0000e+00],\n",
       "        [ 0.0000e+00,  0.0000e+00,  0.0000e+00,  0.0000e+00],\n",
       "        [ 0.0000e+00,  0.0000e+00,  0.0000e+00,  0.0000e+00],\n",
       "        [ 0.0000e+00,  0.0000e+00,  0.0000e+00,  0.0000e+00],\n",
       "        [ 0.0000e+00,  0.0000e+00,  0.0000e+00,  0.0000e+00],\n",
       "        [ 0.0000e+00,  0.0000e+00,  0.0000e+00,  0.0000e+00],\n",
       "        [ 0.0000e+00,  0.0000e+00,  0.0000e+00,  0.0000e+00],\n",
       "        [ 0.0000e+00,  0.0000e+00,  0.0000e+00,  0.0000e+00],\n",
       "        [ 0.0000e+00,  0.0000e+00,  0.0000e+00,  0.0000e+00],\n",
       "        [ 0.0000e+00,  0.0000e+00,  0.0000e+00,  0.0000e+00],\n",
       "        [ 0.0000e+00,  0.0000e+00,  0.0000e+00,  0.0000e+00],\n",
       "        [ 0.0000e+00,  0.0000e+00,  0.0000e+00,  0.0000e+00],\n",
       "        [ 0.0000e+00,  0.0000e+00,  0.0000e+00,  0.0000e+00],\n",
       "        [ 0.0000e+00,  0.0000e+00,  0.0000e+00,  0.0000e+00],\n",
       "        [ 0.0000e+00,  0.0000e+00,  0.0000e+00,  0.0000e+00],\n",
       "        [ 0.0000e+00,  0.0000e+00,  0.0000e+00,  0.0000e+00],\n",
       "        [ 0.0000e+00,  0.0000e+00,  0.0000e+00,  0.0000e+00],\n",
       "        [ 0.0000e+00,  0.0000e+00,  0.0000e+00,  0.0000e+00],\n",
       "        [ 0.0000e+00,  0.0000e+00,  0.0000e+00,  0.0000e+00],\n",
       "        [ 0.0000e+00,  0.0000e+00,  0.0000e+00,  0.0000e+00],\n",
       "        [ 0.0000e+00,  0.0000e+00,  0.0000e+00,  0.0000e+00],\n",
       "        [ 0.0000e+00,  0.0000e+00,  0.0000e+00,  0.0000e+00],\n",
       "        [ 0.0000e+00,  0.0000e+00,  0.0000e+00,  0.0000e+00],\n",
       "        [ 0.0000e+00,  0.0000e+00,  0.0000e+00,  0.0000e+00],\n",
       "        [ 0.0000e+00,  0.0000e+00,  0.0000e+00,  0.0000e+00],\n",
       "        [ 0.0000e+00,  0.0000e+00,  0.0000e+00,  0.0000e+00],\n",
       "        [ 0.0000e+00,  0.0000e+00,  0.0000e+00,  0.0000e+00],\n",
       "        [ 0.0000e+00,  0.0000e+00,  0.0000e+00,  0.0000e+00],\n",
       "        [ 0.0000e+00,  0.0000e+00,  0.0000e+00,  0.0000e+00],\n",
       "        [ 0.0000e+00,  0.0000e+00,  0.0000e+00,  0.0000e+00],\n",
       "        [ 0.0000e+00,  0.0000e+00,  0.0000e+00,  0.0000e+00],\n",
       "        [ 0.0000e+00,  0.0000e+00,  0.0000e+00,  0.0000e+00],\n",
       "        [ 0.0000e+00,  0.0000e+00,  0.0000e+00,  0.0000e+00],\n",
       "        [ 0.0000e+00,  0.0000e+00,  0.0000e+00,  0.0000e+00],\n",
       "        [ 0.0000e+00,  0.0000e+00,  0.0000e+00,  0.0000e+00],\n",
       "        [ 0.0000e+00,  0.0000e+00,  0.0000e+00,  0.0000e+00],\n",
       "        [ 0.0000e+00,  0.0000e+00,  0.0000e+00,  0.0000e+00],\n",
       "        [ 0.0000e+00,  0.0000e+00,  0.0000e+00,  0.0000e+00],\n",
       "        [ 0.0000e+00,  0.0000e+00,  0.0000e+00,  0.0000e+00],\n",
       "        [ 0.0000e+00,  0.0000e+00,  0.0000e+00,  0.0000e+00],\n",
       "        [ 0.0000e+00,  0.0000e+00,  0.0000e+00,  0.0000e+00],\n",
       "        [ 0.0000e+00,  0.0000e+00,  0.0000e+00,  0.0000e+00],\n",
       "        [ 0.0000e+00,  0.0000e+00,  0.0000e+00,  0.0000e+00],\n",
       "        [ 0.0000e+00,  0.0000e+00,  0.0000e+00,  0.0000e+00],\n",
       "        [ 0.0000e+00,  0.0000e+00,  0.0000e+00,  0.0000e+00],\n",
       "        [ 0.0000e+00,  0.0000e+00,  0.0000e+00,  0.0000e+00],\n",
       "        [ 0.0000e+00,  0.0000e+00,  0.0000e+00,  0.0000e+00],\n",
       "        [ 0.0000e+00,  0.0000e+00,  0.0000e+00,  0.0000e+00],\n",
       "        [ 0.0000e+00,  0.0000e+00,  0.0000e+00,  0.0000e+00],\n",
       "        [ 0.0000e+00,  0.0000e+00,  0.0000e+00,  0.0000e+00],\n",
       "        [ 0.0000e+00,  0.0000e+00,  0.0000e+00,  0.0000e+00],\n",
       "        [ 0.0000e+00,  0.0000e+00,  0.0000e+00,  0.0000e+00],\n",
       "        [ 0.0000e+00,  0.0000e+00,  0.0000e+00,  0.0000e+00],\n",
       "        [ 0.0000e+00,  0.0000e+00,  0.0000e+00,  0.0000e+00],\n",
       "        [ 0.0000e+00,  0.0000e+00,  0.0000e+00,  0.0000e+00],\n",
       "        [ 0.0000e+00,  0.0000e+00,  0.0000e+00,  0.0000e+00],\n",
       "        [ 0.0000e+00,  0.0000e+00,  0.0000e+00,  0.0000e+00],\n",
       "        [ 0.0000e+00,  0.0000e+00,  0.0000e+00,  0.0000e+00],\n",
       "        [ 0.0000e+00,  0.0000e+00,  0.0000e+00,  0.0000e+00],\n",
       "        [ 0.0000e+00,  0.0000e+00,  0.0000e+00,  0.0000e+00],\n",
       "        [ 0.0000e+00,  0.0000e+00,  0.0000e+00,  0.0000e+00],\n",
       "        [ 0.0000e+00,  0.0000e+00,  0.0000e+00,  0.0000e+00],\n",
       "        [ 0.0000e+00,  0.0000e+00,  0.0000e+00,  0.0000e+00],\n",
       "        [ 0.0000e+00,  0.0000e+00,  0.0000e+00,  0.0000e+00],\n",
       "        [ 0.0000e+00,  0.0000e+00,  0.0000e+00,  0.0000e+00],\n",
       "        [ 0.0000e+00,  0.0000e+00,  0.0000e+00,  0.0000e+00],\n",
       "        [ 0.0000e+00,  0.0000e+00,  0.0000e+00,  0.0000e+00],\n",
       "        [ 0.0000e+00,  0.0000e+00,  0.0000e+00,  0.0000e+00],\n",
       "        [ 0.0000e+00,  0.0000e+00,  0.0000e+00,  0.0000e+00],\n",
       "        [ 0.0000e+00,  0.0000e+00,  0.0000e+00,  0.0000e+00],\n",
       "        [ 0.0000e+00,  0.0000e+00,  0.0000e+00,  0.0000e+00],\n",
       "        [ 0.0000e+00,  0.0000e+00,  0.0000e+00,  0.0000e+00],\n",
       "        [ 0.0000e+00,  0.0000e+00,  0.0000e+00,  0.0000e+00],\n",
       "        [ 0.0000e+00,  0.0000e+00,  0.0000e+00,  0.0000e+00],\n",
       "        [ 0.0000e+00,  0.0000e+00,  0.0000e+00,  0.0000e+00],\n",
       "        [ 0.0000e+00,  0.0000e+00,  0.0000e+00,  0.0000e+00],\n",
       "        [ 0.0000e+00,  0.0000e+00,  0.0000e+00,  0.0000e+00],\n",
       "        [ 0.0000e+00,  0.0000e+00,  0.0000e+00,  0.0000e+00],\n",
       "        [ 0.0000e+00,  0.0000e+00,  0.0000e+00,  0.0000e+00],\n",
       "        [ 0.0000e+00,  0.0000e+00,  0.0000e+00,  0.0000e+00],\n",
       "        [ 0.0000e+00,  0.0000e+00,  0.0000e+00,  0.0000e+00],\n",
       "        [ 0.0000e+00,  0.0000e+00,  0.0000e+00,  0.0000e+00],\n",
       "        [ 0.0000e+00,  0.0000e+00,  0.0000e+00,  0.0000e+00],\n",
       "        [ 0.0000e+00,  0.0000e+00,  0.0000e+00,  0.0000e+00],\n",
       "        [ 0.0000e+00,  0.0000e+00,  0.0000e+00,  0.0000e+00],\n",
       "        [ 0.0000e+00,  0.0000e+00,  0.0000e+00,  0.0000e+00],\n",
       "        [ 0.0000e+00,  0.0000e+00,  0.0000e+00,  0.0000e+00],\n",
       "        [ 0.0000e+00,  0.0000e+00,  0.0000e+00,  0.0000e+00],\n",
       "        [ 0.0000e+00,  0.0000e+00,  0.0000e+00,  0.0000e+00],\n",
       "        [ 0.0000e+00,  0.0000e+00,  0.0000e+00,  0.0000e+00],\n",
       "        [ 0.0000e+00,  0.0000e+00,  0.0000e+00,  0.0000e+00],\n",
       "        [ 0.0000e+00,  0.0000e+00,  0.0000e+00,  0.0000e+00],\n",
       "        [ 0.0000e+00,  0.0000e+00,  0.0000e+00,  0.0000e+00],\n",
       "        [ 0.0000e+00,  0.0000e+00,  0.0000e+00,  0.0000e+00],\n",
       "        [ 0.0000e+00,  0.0000e+00,  0.0000e+00,  0.0000e+00],\n",
       "        [ 0.0000e+00,  0.0000e+00,  0.0000e+00,  0.0000e+00],\n",
       "        [ 0.0000e+00,  0.0000e+00,  0.0000e+00,  0.0000e+00],\n",
       "        [ 0.0000e+00,  0.0000e+00,  0.0000e+00,  0.0000e+00],\n",
       "        [ 0.0000e+00,  0.0000e+00,  0.0000e+00,  0.0000e+00],\n",
       "        [ 0.0000e+00,  0.0000e+00,  0.0000e+00,  0.0000e+00],\n",
       "        [ 0.0000e+00,  0.0000e+00,  0.0000e+00,  0.0000e+00],\n",
       "        [ 0.0000e+00,  0.0000e+00,  0.0000e+00,  0.0000e+00],\n",
       "        [ 0.0000e+00,  0.0000e+00,  0.0000e+00,  0.0000e+00],\n",
       "        [ 0.0000e+00,  0.0000e+00,  0.0000e+00,  0.0000e+00],\n",
       "        [ 0.0000e+00,  0.0000e+00,  0.0000e+00,  0.0000e+00],\n",
       "        [ 0.0000e+00,  0.0000e+00,  0.0000e+00,  0.0000e+00],\n",
       "        [ 0.0000e+00,  0.0000e+00,  0.0000e+00,  0.0000e+00],\n",
       "        [ 0.0000e+00,  0.0000e+00,  0.0000e+00,  0.0000e+00],\n",
       "        [ 0.0000e+00,  0.0000e+00,  0.0000e+00,  0.0000e+00],\n",
       "        [ 0.0000e+00,  0.0000e+00,  0.0000e+00,  0.0000e+00],\n",
       "        [ 0.0000e+00,  0.0000e+00,  0.0000e+00,  0.0000e+00],\n",
       "        [ 0.0000e+00,  0.0000e+00,  0.0000e+00,  0.0000e+00],\n",
       "        [-4.4703e-08,  0.0000e+00,  0.0000e+00,  0.0000e+00],\n",
       "        [ 0.0000e+00,  0.0000e+00,  0.0000e+00,  0.0000e+00],\n",
       "        [ 0.0000e+00,  0.0000e+00,  0.0000e+00,  0.0000e+00]])"
      ]
     },
     "execution_count": 83,
     "metadata": {},
     "output_type": "execute_result"
    }
   ],
   "source": [
    "bbox_target.cpu()-mm_bbox_target.cpu()"
   ]
  },
  {
   "cell_type": "code",
   "execution_count": 41,
   "metadata": {},
   "outputs": [
    {
     "data": {
      "text/plain": [
       "tensor(-2, device='cuda:0')"
      ]
     },
     "execution_count": 41,
     "metadata": {},
     "output_type": "execute_result"
    }
   ],
   "source": [
    "matched_ind.min()"
   ]
  },
  {
   "cell_type": "code",
   "execution_count": 52,
   "metadata": {},
   "outputs": [],
   "source": [
    "valid_mm_match=labels_list_all[label_weights_list_all>0]"
   ]
  },
  {
   "cell_type": "code",
   "execution_count": 53,
   "metadata": {},
   "outputs": [],
   "source": [
    "valid_match = matched_ind[matched_ind>=-1]"
   ]
  },
  {
   "cell_type": "code",
   "execution_count": 54,
   "metadata": {},
   "outputs": [],
   "source": [
    "valid_mm_match[valid_mm_match==80]=-1"
   ]
  },
  {
   "cell_type": "code",
   "execution_count": 60,
   "metadata": {},
   "outputs": [
    {
     "data": {
      "text/plain": [
       "tensor(9, device='cuda:1')"
      ]
     },
     "execution_count": 60,
     "metadata": {},
     "output_type": "execute_result"
    }
   ],
   "source": [
    "valid_mm_match.max()"
   ]
  },
  {
   "cell_type": "code",
   "execution_count": 43,
   "metadata": {},
   "outputs": [
    {
     "data": {
      "text/plain": [
       "tensor(80, device='cuda:1')"
      ]
     },
     "execution_count": 43,
     "metadata": {},
     "output_type": "execute_result"
    }
   ],
   "source": [
    "labels_list_all.max()"
   ]
  },
  {
   "cell_type": "code",
   "execution_count": 48,
   "metadata": {},
   "outputs": [
    {
     "data": {
      "text/plain": [
       "tensor(136478)"
      ]
     },
     "execution_count": 48,
     "metadata": {},
     "output_type": "execute_result"
    }
   ],
   "source": [
    "(label_weights_list[0]==1).sum()"
   ]
  },
  {
   "cell_type": "code",
   "execution_count": 24,
   "metadata": {},
   "outputs": [
    {
     "data": {
      "text/plain": [
       "[{'img_shape': torch.Size([800, 1201]),\n",
       "  'scale_factor': torch.Size([800, 1201]),\n",
       "  'flip': False,\n",
       "  'pad_shape': (800, 1216, 3),\n",
       "  'batch_input_shape': (800, 1216)}]"
      ]
     },
     "execution_count": 24,
     "metadata": {},
     "output_type": "execute_result"
    }
   ],
   "source": [
    "img_meta"
   ]
  },
  {
   "cell_type": "code",
   "execution_count": 22,
   "metadata": {},
   "outputs": [
    {
     "data": {
      "text/plain": [
       "[torch.Size([100, 152]),\n",
       " torch.Size([50, 76]),\n",
       " torch.Size([25, 38]),\n",
       " torch.Size([13, 19]),\n",
       " torch.Size([7, 10])]"
      ]
     },
     "execution_count": 22,
     "metadata": {},
     "output_type": "execute_result"
    }
   ],
   "source": [
    "featmap_sizes"
   ]
  },
  {
   "cell_type": "code",
   "execution_count": 23,
   "metadata": {},
   "outputs": [],
   "source": [
    "#out_head_v=list(out_head.values())\n"
   ]
  },
  {
   "cell_type": "code",
   "execution_count": 36,
   "metadata": {},
   "outputs": [
    {
     "data": {
      "text/plain": [
       "tensor([[-22.6274, -11.3137,  22.6274,  11.3137],\n",
       "        [-28.5088, -14.2544,  28.5088,  14.2544],\n",
       "        [-35.9188, -17.9594,  35.9188,  17.9594],\n",
       "        [-16.0000, -16.0000,  16.0000,  16.0000],\n",
       "        [-20.1587, -20.1587,  20.1587,  20.1587],\n",
       "        [-25.3984, -25.3984,  25.3984,  25.3984],\n",
       "        [-11.3137, -22.6274,  11.3137,  22.6274],\n",
       "        [-14.2544, -28.5088,  14.2544,  28.5088],\n",
       "        [-17.9594, -35.9188,  17.9594,  35.9188]], device='cuda:1')"
      ]
     },
     "execution_count": 36,
     "metadata": {},
     "output_type": "execute_result"
    }
   ],
   "source": [
    "model.det_head.anchor_generater.cell_anchors[0]"
   ]
  },
  {
   "cell_type": "code",
   "execution_count": 40,
   "metadata": {},
   "outputs": [
    {
     "data": {
      "text/plain": [
       "tensor([[-22.6274, -11.3137,  22.6274,  11.3137],\n",
       "        [-28.5088, -14.2544,  28.5088,  14.2544],\n",
       "        [-35.9188, -17.9594,  35.9188,  17.9594],\n",
       "        [-16.0000, -16.0000,  16.0000,  16.0000],\n",
       "        [-20.1587, -20.1587,  20.1587,  20.1587],\n",
       "        [-25.3984, -25.3984,  25.3984,  25.3984],\n",
       "        [-11.3137, -22.6274,  11.3137,  22.6274],\n",
       "        [-14.2544, -28.5088,  14.2544,  28.5088],\n",
       "        [-17.9594, -35.9188,  17.9594,  35.9188]])"
      ]
     },
     "execution_count": 40,
     "metadata": {},
     "output_type": "execute_result"
    }
   ],
   "source": [
    "mm_model.bbox_head.prior_generator.base_anchors[0]"
   ]
  },
  {
   "cell_type": "code",
   "execution_count": 41,
   "metadata": {},
   "outputs": [],
   "source": [
    "mm_anchor_all = [torch.cat(a) for a in mm_anchor]"
   ]
  },
  {
   "cell_type": "code",
   "execution_count": 43,
   "metadata": {},
   "outputs": [
    {
     "data": {
      "text/plain": [
       "tensor(True)"
      ]
     },
     "execution_count": 43,
     "metadata": {},
     "output_type": "execute_result"
    }
   ],
   "source": [
    "(anchors[1].cpu()-mm_anchor_all[1].cpu()==0).all()"
   ]
  },
  {
   "cell_type": "code",
   "execution_count": 30,
   "metadata": {},
   "outputs": [
    {
     "data": {
      "text/plain": [
       "tensor([[ -22.6274,  -11.3137,   22.6274,   11.3137],\n",
       "        [ -28.5088,  -14.2544,   28.5088,   14.2544],\n",
       "        [ -35.9188,  -17.9594,   35.9188,   17.9594],\n",
       "        ...,\n",
       "        [ 970.9807,  405.9613, 1333.0193, 1130.0387],\n",
       "        [ 923.9299,  311.8599, 1380.0701, 1224.1401],\n",
       "        [ 864.6497,  193.2994, 1439.3503, 1342.7006]])"
      ]
     },
     "execution_count": 30,
     "metadata": {},
     "output_type": "execute_result"
    }
   ],
   "source": [
    "mm_anchor_all[0]"
   ]
  },
  {
   "cell_type": "code",
   "execution_count": 72,
   "metadata": {},
   "outputs": [
    {
     "name": "stdout",
     "output_type": "stream",
     "text": [
      "torch.Size([136800, 4])\n",
      "torch.Size([34200, 4])\n",
      "torch.Size([8550, 4])\n",
      "torch.Size([2223, 4])\n",
      "torch.Size([630, 4])\n"
     ]
    }
   ],
   "source": [
    "for i in range(5):\n",
    "    print(mm_anchor[0][i].shape)"
   ]
  },
  {
   "cell_type": "code",
   "execution_count": 62,
   "metadata": {},
   "outputs": [
    {
     "data": {
      "text/plain": [
       "torch.Size([182403, 4])"
      ]
     },
     "execution_count": 62,
     "metadata": {},
     "output_type": "execute_result"
    }
   ],
   "source": [
    "mm_anchor_all[0].shape"
   ]
  },
  {
   "cell_type": "code",
   "execution_count": 17,
   "metadata": {},
   "outputs": [
    {
     "name": "stdout",
     "output_type": "stream",
     "text": [
      "torch.Size([1, 3, 800, 1216])\n",
      "2 torch.Size([1, 256, 100, 152])\n",
      "3 torch.Size([1, 256, 50, 76])\n",
      "p5 torch.Size([1, 256, 25, 38])\n",
      "p6 torch.Size([1, 256, 13, 19])\n",
      "p7 torch.Size([1, 256, 7, 10])\n"
     ]
    }
   ],
   "source": [
    "print(inputs['data'].shape)\n",
    "for k,v in out.items():\n",
    "    print(k,v.shape)"
   ]
  },
  {
   "cell_type": "code",
   "execution_count": 57,
   "metadata": {},
   "outputs": [
    {
     "name": "stdout",
     "output_type": "stream",
     "text": [
      "2 torch.Size([1, 720, 100, 152])\n",
      "3 torch.Size([1, 720, 50, 76])\n",
      "c5 torch.Size([1, 720, 25, 38])\n",
      "p6 torch.Size([1, 720, 13, 19])\n",
      "p7 torch.Size([1, 720, 7, 10])\n"
     ]
    },
    {
     "data": {
      "text/plain": [
       "torch.Size([1, 720, 100, 152])"
      ]
     },
     "execution_count": 57,
     "metadata": {},
     "output_type": "execute_result"
    }
   ],
   "source": [
    "for k,v in out_head.items():\n",
    "    print(k,out_head[k][0].shape)\n",
    "out_head['2'][0].shape"
   ]
  },
  {
   "cell_type": "code",
   "execution_count": 16,
   "metadata": {},
   "outputs": [],
   "source": [
    "model.eval()\n",
    "x=model.backbone.conv1(inputs['data'])\n",
    "x = model.backbone.bn1(x)\n",
    "x = model.backbone.relu(x)\n",
    "x = model.backbone.maxpool(x)\n",
    "x = model.backbone.layer1(x)\n",
    "x = model.backbone.layer2[0].conv1(x)\n",
    "x = model.backbone.layer2[0].bn1(x)\n",
    "\n",
    "mm_model.eval()\n",
    "mx=mm_model.backbone.conv1(inputs['data'])\n",
    "mx = mm_model.backbone.norm1(mx)\n",
    "mx = mm_model.backbone.relu(mx)\n",
    "mx = mm_model.backbone.maxpool(mx)\n",
    "mx = mm_model.backbone.layer1(mx)\n",
    "mx = mm_model.backbone.layer2[0].conv1(mx)\n",
    "mx = mm_model.backbone.layer2[0].norm1(mx)\n"
   ]
  },
  {
   "cell_type": "code",
   "execution_count": 17,
   "metadata": {},
   "outputs": [
    {
     "data": {
      "text/plain": [
       "tensor(True, device='cuda:0')"
      ]
     },
     "execution_count": 17,
     "metadata": {},
     "output_type": "execute_result"
    }
   ],
   "source": [
    "(mx==x).all()"
   ]
  },
  {
   "cell_type": "code",
   "execution_count": 28,
   "metadata": {},
   "outputs": [
    {
     "data": {
      "text/plain": [
       "False"
      ]
     },
     "execution_count": 28,
     "metadata": {},
     "output_type": "execute_result"
    }
   ],
   "source": [
    "model.backbone.layer2[0].bn1.training\n",
    "#model.backbone.bn1.training"
   ]
  },
  {
   "cell_type": "code",
   "execution_count": 29,
   "metadata": {},
   "outputs": [
    {
     "data": {
      "text/plain": [
       "False"
      ]
     },
     "execution_count": 29,
     "metadata": {},
     "output_type": "execute_result"
    }
   ],
   "source": [
    "mm_model.backbone.layer2[0].norm1.training\n",
    "#mm_model.backbone.norm1.training"
   ]
  },
  {
   "cell_type": "code",
   "execution_count": 30,
   "metadata": {},
   "outputs": [
    {
     "data": {
      "text/plain": [
       "True"
      ]
     },
     "execution_count": 30,
     "metadata": {},
     "output_type": "execute_result"
    }
   ],
   "source": [
    "mm_model.backbone.norm_eval"
   ]
  }
 ],
 "metadata": {
  "interpreter": {
   "hash": "0aa8413314c4b22e0108e3e0a06a48ff88ea70e28035422d69764e57470655e9"
  },
  "kernelspec": {
   "display_name": "Python 3.8.12 64-bit ('py38': conda)",
   "language": "python",
   "name": "python3"
  },
  "language_info": {
   "codemirror_mode": {
    "name": "ipython",
    "version": 3
   },
   "file_extension": ".py",
   "mimetype": "text/x-python",
   "name": "python",
   "nbconvert_exporter": "python",
   "pygments_lexer": "ipython3",
   "version": "3.8.12"
  },
  "orig_nbformat": 4
 },
 "nbformat": 4,
 "nbformat_minor": 2
}
